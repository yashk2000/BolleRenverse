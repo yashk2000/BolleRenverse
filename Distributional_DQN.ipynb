{
  "nbformat": 4,
  "nbformat_minor": 0,
  "metadata": {
    "colab": {
      "name": "Distributional DQN.ipynb",
      "provenance": [],
      "collapsed_sections": [],
      "authorship_tag": "ABX9TyOjjlTemKIO+LsLsira3+FM",
      "include_colab_link": true
    },
    "kernelspec": {
      "name": "python3",
      "display_name": "Python 3"
    },
    "language_info": {
      "name": "python"
    }
  },
  "cells": [
    {
      "cell_type": "markdown",
      "metadata": {
        "id": "view-in-github",
        "colab_type": "text"
      },
      "source": [
        "<a href=\"https://colab.research.google.com/github/yashk2000/BolleRenverse/blob/master/Distributional_DQN.ipynb\" target=\"_parent\"><img src=\"https://colab.research.google.com/assets/colab-badge.svg\" alt=\"Open In Colab\"/></a>"
      ]
    },
    {
      "cell_type": "code",
      "metadata": {
        "colab": {
          "base_uri": "https://localhost:8080/",
          "height": 282
        },
        "id": "574YoZvEfzrO",
        "outputId": "e6136b77-8daa-4198-bb19-8d9c581201f0"
      },
      "source": [
        "import torch \n",
        "import numpy as np \n",
        "from matplotlib import pyplot as plt\n",
        "\n",
        "vmin, vmax = -10., 10.\n",
        "nsup = 51\n",
        "support = np.linspace(vmin, vmax, nsup)\n",
        "probs = np.ones(nsup)\n",
        "probs /= probs.sum()\n",
        "z3 = torch.from_numpy(probs).float()\n",
        "plt.bar(support, probs)"
      ],
      "execution_count": 7,
      "outputs": [
        {
          "output_type": "execute_result",
          "data": {
            "text/plain": [
              "<BarContainer object of 51 artists>"
            ]
          },
          "metadata": {
            "tags": []
          },
          "execution_count": 7
        },
        {
          "output_type": "display_data",
          "data": {
            "image/png": "[encoded data removed]",
            "text/plain": [
              "<Figure size 432x288 with 1 Axes>"
            ]
          },
          "metadata": {
            "tags": [],
            "needs_background": "light"
          }
        }
      ]
    },
    {
      "cell_type": "code",
      "metadata": {
        "id": "7JBstH0omg9j"
      },
      "source": [
        "def update_dist(r,support,probs,lim=(-10.,10.),gamma=0.8):\n",
        "    nsup = probs.shape[0]\n",
        "    vmin,vmax = lim[0],lim[1]\n",
        "    dz = (vmax-vmin)/(nsup-1.) \n",
        "    bj = np.round((r-vmin)/dz) \n",
        "    bj = int(np.clip(bj,0,nsup-1))\n",
        "    m = probs.clone()\n",
        "    j = 1\n",
        "    for i in range(bj,1,-1): \n",
        "        m[i] += np.power(gamma,j) * m[i-1]\n",
        "        j += 1\n",
        "    j = 1\n",
        "    for i in range(bj,nsup-1,1):\n",
        "        m[i] += np.power(gamma,j) * m[i+1]\n",
        "        j += 1\n",
        "    m /= m.sum() \n",
        "    return m"
      ],
      "execution_count": 8,
      "outputs": []
    },
    {
      "cell_type": "code",
      "metadata": {
        "colab": {
          "base_uri": "https://localhost:8080/",
          "height": 282
        },
        "id": "W7e8BClWJZKJ",
        "outputId": "f6564eb9-7ccd-47c1-ffe0-61425b5b40f9"
      },
      "source": [
        "ob_reward = -1\n",
        "Z = torch.from_numpy(probs).float()\n",
        "Z = update_dist(ob_reward,torch.from_numpy(support).float(),Z,lim=(vmin,vmax),gamma=0.1)\n",
        "plt.bar(support,Z)"
      ],
      "execution_count": 9,
      "outputs": [
        {
          "output_type": "execute_result",
          "data": {
            "text/plain": [
              "<BarContainer object of 51 artists>"
            ]
          },
          "metadata": {
            "tags": []
          },
          "execution_count": 9
        },
        {
          "output_type": "display_data",
          "data": {
            "image/png": "[encoded data removed]",
            "text/plain": [
              "<Figure size 432x288 with 1 Axes>"
            ]
          },
          "metadata": {
            "tags": [],
            "needs_background": "light"
          }
        }
      ]
    },
    {
      "cell_type": "code",
      "metadata": {
        "colab": {
          "base_uri": "https://localhost:8080/",
          "height": 282
        },
        "id": "VNXyLGP6JnbL",
        "outputId": "0ad9bfaa-be0c-4b81-b1f9-6857bb2e8317"
      },
      "source": [
        "ob_rewards = [10,10,10,0,1,0,-10,-10,10,10]\n",
        "for i in range(len(ob_rewards)):\n",
        "    Z = update_dist(ob_rewards[i], torch.from_numpy(support).float(), Z, lim=(vmin,vmax), gamma=0.5)\n",
        "plt.bar(support, Z)"
      ],
      "execution_count": 10,
      "outputs": [
        {
          "output_type": "execute_result",
          "data": {
            "text/plain": [
              "<BarContainer object of 51 artists>"
            ]
          },
          "metadata": {
            "tags": []
          },
          "execution_count": 10
        },
        {
          "output_type": "display_data",
          "data": {
            "image/png": "[encoded data removed]",
            "text/plain": [
              "<Figure size 432x288 with 1 Axes>"
            ]
          },
          "metadata": {
            "tags": [],
            "needs_background": "light"
          }
        }
      ]
    },
    {
      "cell_type": "code",
      "metadata": {
        "colab": {
          "base_uri": "https://localhost:8080/",
          "height": 282
        },
        "id": "STfgeYYYJvnL",
        "outputId": "453eb86e-9c07-491f-92f7-411f50b267d1"
      },
      "source": [
        "ob_rewards = [5, 5, 5, 5, 5, 5, 5, 5, 5, 5, 5, 5, 5, 5, 5, 5, 5, 5, 5, 5]\n",
        "for i in range(len(ob_rewards)):\n",
        "    Z = update_dist(ob_rewards[i], torch.from_numpy(support).float(), \\\n",
        "    Z, lim=(vmin,vmax), gamma=0.7)\n",
        "plt.bar(support, Z)"
      ],
      "execution_count": 11,
      "outputs": [
        {
          "output_type": "execute_result",
          "data": {
            "text/plain": [
              "<BarContainer object of 51 artists>"
            ]
          },
          "metadata": {
            "tags": []
          },
          "execution_count": 11
        },
        {
          "output_type": "display_data",
          "data": {
            "image/png": "[encoded data removed]",
            "text/plain": [
              "<Figure size 432x288 with 1 Axes>"
            ]
          },
          "metadata": {
            "tags": [],
            "needs_background": "light"
          }
        }
      ]
    },
    {
      "cell_type": "code",
      "metadata": {
        "id": "9EGnuQg6Jw_K"
      },
      "source": [
        "def dist_dqn(x,theta,aspace=3): \n",
        "    dim0,dim1,dim2,dim3 = 128,100,25,51\n",
        "    t1 = dim0*dim1\n",
        "    t2 = dim2*dim1\n",
        "    theta1 = theta[0:t1].reshape(dim0,dim1)\n",
        "    theta2 = theta[t1:t1 + t2].reshape(dim1,dim2)\n",
        "    l1 = x @ theta1 \n",
        "    l1 = torch.selu(l1)\n",
        "    l2 = l1 @ theta2\n",
        "    l2 = torch.selu(l2)\n",
        "    l3 = []\n",
        "    for i in range(aspace):\n",
        "        step = dim2*dim3\n",
        "        theta5_dim = t1 + t2 + i * step\n",
        "        theta5 = theta[theta5_dim:theta5_dim+step].reshape(dim2,dim3)\n",
        "        l3_ = l2 @ theta5 \n",
        "        l3.append(l3_)\n",
        "    l3 = torch.stack(l3,dim=1)\n",
        "    l3 = torch.nn.functional.softmax(l3,dim=2)\n",
        "    return l3.squeeze()"
      ],
      "execution_count": 12,
      "outputs": []
    },
    {
      "cell_type": "code",
      "metadata": {
        "id": "CAKb7MYi8KJ6"
      },
      "source": [
        "def get_target_dist(dist_batch,action_batch,reward_batch,support,lim=(-10,10),gamma=0.8):\n",
        "    nsup = support.shape[0]\n",
        "    vmin,vmax = lim[0],lim[1]\n",
        "    dz = (vmax-vmin)/(nsup-1.)\n",
        "    target_dist_batch = dist_batch.clone()\n",
        "    for i in range(dist_batch.shape[0]): \n",
        "        dist_full = dist_batch[i]\n",
        "        action = int(action_batch[i].item())\n",
        "        dist = dist_full[action]\n",
        "        r = reward_batch[i]\n",
        "        if r != -1: \n",
        "            target_dist = torch.zeros(nsup)\n",
        "            bj = np.round((r-vmin)/dz)\n",
        "            bj = int(np.clip(bj,0,nsup-1))\n",
        "            target_dist[bj] = 1.\n",
        "        else: \n",
        "            target_dist = update_dist(r,support,dist,lim=lim,gamma=gamma)\n",
        "        target_dist_batch[i,action,:] = target_dist \n",
        "        \n",
        "    return target_dist_batch"
      ],
      "execution_count": 13,
      "outputs": []
    },
    {
      "cell_type": "code",
      "metadata": {
        "id": "mV_4dtfT8LId"
      },
      "source": [
        "def lossfn(x,y):\n",
        "    loss = torch.Tensor([0.])\n",
        "    loss.requires_grad=True\n",
        "    for i in range(x.shape[0]):  \n",
        "        loss_ = -1 *  torch.log(x[i].flatten(start_dim=0)) @ y[i].flatten(start_dim=0) \n",
        "        loss = loss + loss_\n",
        "    return loss"
      ],
      "execution_count": 14,
      "outputs": []
    },
    {
      "cell_type": "code",
      "metadata": {
        "colab": {
          "base_uri": "https://localhost:8080/",
          "height": 282
        },
        "id": "SubFaSgy8v1s",
        "outputId": "dfa60312-c666-4c88-c9c5-68a0bc49761a"
      },
      "source": [
        "import torch\n",
        "aspace = 3 \n",
        "tot_params = 128*100 + 25*100 + aspace*25*51 \n",
        "theta = torch.randn(tot_params)/10. \n",
        "theta.requires_grad=True\n",
        "theta_2 = theta.detach().clone() \n",
        "\n",
        "vmin,vmax= -10,10\n",
        "gamma=0.9\n",
        "lr = 0.00001\n",
        "update_rate = 75 \n",
        "support = torch.linspace(-10,10,51)\n",
        "state = torch.randn(2,128)/10.\n",
        "action_batch = torch.Tensor([0,2]) \n",
        "reward_batch = torch.Tensor([0,10]) \n",
        "losses = [] \n",
        "pred_batch = dist_dqn(state,theta,aspace=aspace) \n",
        "target_dist = get_target_dist(pred_batch,action_batch,reward_batch, \\\n",
        "                                 support, lim=(vmin,vmax),gamma=gamma) \n",
        "\n",
        "plt.plot((target_dist.flatten(start_dim=1)[0].data.numpy()),color='red',label='target')\n",
        "plt.plot((pred_batch.flatten(start_dim=1)[0].data.numpy()),color='green',label='pred')\n",
        "plt.legend()"
      ],
      "execution_count": 15,
      "outputs": [
        {
          "output_type": "execute_result",
          "data": {
            "text/plain": [
              "<matplotlib.legend.Legend at 0x7f5f4674fe50>"
            ]
          },
          "metadata": {
            "tags": []
          },
          "execution_count": 15
        },
        {
          "output_type": "display_data",
          "data": {
            "image/png": "[encoded data removed]",
            "text/plain": [
              "<Figure size 432x288 with 1 Axes>"
            ]
          },
          "metadata": {
            "tags": [],
            "needs_background": "light"
          }
        }
      ]
    },
    {
      "cell_type": "code",
      "metadata": {
        "colab": {
          "base_uri": "https://localhost:8080/",
          "height": 284
        },
        "id": "iCZ68UlQ9ClS",
        "outputId": "1235fd80-f9f3-4690-83c6-1b058bc24a17"
      },
      "source": [
        "\n",
        "for i in range(1000):\n",
        "    reward_batch = torch.Tensor([0,8]) + torch.randn(2)/10.0 \n",
        "    pred_batch = dist_dqn(state,theta,aspace=aspace) \n",
        "    pred_batch2 = dist_dqn(state,theta_2,aspace=aspace)\n",
        "    target_dist = get_target_dist(pred_batch2,action_batch,reward_batch, \\\n",
        "                                 support, lim=(vmin,vmax),gamma=gamma) \n",
        "    loss = lossfn(pred_batch,target_dist.detach()) \n",
        "    losses.append(loss.item())\n",
        "    loss.backward()\n",
        "    # Gradient Descent\n",
        "    with torch.no_grad():\n",
        "        theta -= lr * theta.grad\n",
        "    theta.requires_grad = True\n",
        "    \n",
        "    if i % update_rate == 0: \n",
        "        theta_2 = theta.detach().clone()\n",
        "\n",
        "plt.plot((target_dist.flatten(start_dim=1)[0].data.numpy()),color='red',label='target')\n",
        "plt.plot((pred_batch.flatten(start_dim=1)[0].data.numpy()),color='green',label='pred')\n",
        "plt.plot(losses)"
      ],
      "execution_count": 16,
      "outputs": [
        {
          "output_type": "execute_result",
          "data": {
            "text/plain": [
              "[<matplotlib.lines.Line2D at 0x7f5f97d73690>]"
            ]
          },
          "metadata": {
            "tags": []
          },
          "execution_count": 16
        },
        {
          "output_type": "display_data",
          "data": {
            "image/png": "[encoded data removed]",
            "text/plain": [
              "<Figure size 432x288 with 1 Axes>"
            ]
          },
          "metadata": {
            "tags": [],
            "needs_background": "light"
          }
        }
      ]
    },
    {
      "cell_type": "code",
      "metadata": {
        "colab": {
          "base_uri": "https://localhost:8080/",
          "height": 265
        },
        "id": "i-g3xCfw9S07",
        "outputId": "66d8db35-bb27-423c-b9f3-848408d9e3c3"
      },
      "source": [
        "tpred = pred_batch\n",
        "cs = ['gray','green','red']\n",
        "num_batch = 2\n",
        "labels = ['Action {}'.format(i,) for i in range(aspace)]\n",
        "fig,ax = plt.subplots(nrows=num_batch,ncols=aspace)\n",
        "\n",
        "for j in range(num_batch): \n",
        "    for i in range(tpred.shape[1]): \n",
        "        ax[j,i].bar(support.data.numpy(),tpred[j,i,:].data.numpy(),\\\n",
        "                label='Action {}'.format(i),alpha=0.9,color=cs[i])"
      ],
      "execution_count": 17,
      "outputs": [
        {
          "output_type": "display_data",
          "data": {
            "image/png": "[encoded data removed]",
            "text/plain": [
              "<Figure size 432x288 with 6 Axes>"
            ]
          },
          "metadata": {
            "tags": [],
            "needs_background": "light"
          }
        }
      ]
    },
    {
      "cell_type": "code",
      "metadata": {
        "id": "aFOr3-G39YFU"
      },
      "source": [
        "def preproc_state(state):\n",
        "    p_state = torch.from_numpy(state).unsqueeze(dim=0).float()\n",
        "    p_state = torch.nn.functional.normalize(p_state,dim=1) \n",
        "    return p_state\n",
        "\n",
        "def get_action(dist,support):\n",
        "    actions = []\n",
        "    for b in range(dist.shape[0]): \n",
        "        expectations = [support @ dist[b,a,:] for a in range(dist.shape[1])] \n",
        "        action = int(np.argmax(expectations)) \n",
        "        actions.append(action)\n",
        "    actions = torch.Tensor(actions).int()\n",
        "    return actions"
      ],
      "execution_count": 19,
      "outputs": []
    },
    {
      "cell_type": "code",
      "metadata": {
        "id": "Q8GM7JiA-MOj"
      },
      "source": [
        "import gym\n",
        "from collections import deque\n",
        "env = gym.make('Freeway-ram-v0')\n",
        "aspace = 3\n",
        "env.env.get_action_meanings()\n",
        "\n",
        "vmin,vmax = -10,10\n",
        "replay_size = 200\n",
        "batch_size = 50\n",
        "nsup = 51\n",
        "dz = (vmax - vmin) / (nsup-1)\n",
        "support = torch.linspace(vmin,vmax,nsup)\n",
        "\n",
        "replay = deque(maxlen=replay_size) \n",
        "lr = 0.0001 \n",
        "gamma = 0.1  \n",
        "epochs = 1300\n",
        "eps = 0.20 \n",
        "eps_min = 0.05\n",
        "priority_level = 5 \n",
        "update_freq = 25  \n",
        "\n",
        "#Initialize DQN parameter vector\n",
        "tot_params = 128*100 + 25*100 + aspace*25*51   \n",
        "theta = torch.randn(tot_params)/10.  \n",
        "theta.requires_grad=True\n",
        "theta_2 = theta.detach().clone() \n",
        "\n",
        "losses = []\n",
        "cum_rewards = [] \n",
        "renders = []\n",
        "state = preproc_state(env.reset())"
      ],
      "execution_count": 20,
      "outputs": []
    },
    {
      "cell_type": "code",
      "metadata": {
        "id": "ytlk6k-V-n9F"
      },
      "source": [
        "from random import shuffle\n",
        "for i in range(epochs):\n",
        "    pred = dist_dqn(state,theta,aspace=aspace)\n",
        "    if i < replay_size or np.random.rand(1) < eps: \n",
        "        action = np.random.randint(aspace)\n",
        "    else:\n",
        "        action = get_action(pred.unsqueeze(dim=0).detach(),support).item()\n",
        "    state2, reward, done, info = env.step(action) \n",
        "    state2 = preproc_state(state2)\n",
        "    if reward == 1: cum_rewards.append(1) \n",
        "    reward = 10 if reward == 1 else reward \n",
        "    reward = -10 if done else reward \n",
        "    reward = -1 if reward == 0 else reward\n",
        "    exp = (state,action,reward,state2)\n",
        "    replay.append(exp) \n",
        "    \n",
        "    if reward == 10: \n",
        "        for e in range(priority_level):\n",
        "            replay.append(exp)\n",
        "            \n",
        "    shuffle(replay)\n",
        "    state = state2\n",
        "\n",
        "    if len(replay) == replay_size: \n",
        "        indx = np.random.randint(low=0,high=len(replay),size=batch_size)\n",
        "        exps = [replay[j] for j in indx]\n",
        "        state_batch = torch.stack([ex[0] for ex in exps],dim=1).squeeze()\n",
        "        action_batch = torch.Tensor([ex[1] for ex in exps])\n",
        "        reward_batch = torch.Tensor([ex[2] for ex in exps])\n",
        "        state2_batch = torch.stack([ex[3] for ex in exps],dim=1).squeeze()\n",
        "        pred_batch = dist_dqn(state_batch.detach(),theta,aspace=aspace)\n",
        "        pred2_batch = dist_dqn(state2_batch.detach(),theta_2,aspace=aspace)\n",
        "        target_dist = get_target_dist(pred2_batch,action_batch,reward_batch, \\\n",
        "                                     support, lim=(vmin,vmax),gamma=gamma)\n",
        "        loss = lossfn(pred_batch,target_dist.detach())\n",
        "        losses.append(loss.item())\n",
        "        loss.backward()\n",
        "        with torch.no_grad():\n",
        "            theta -= lr * theta.grad\n",
        "        theta.requires_grad = True\n",
        "        \n",
        "    if i % update_freq == 0: \n",
        "        theta_2 = theta.detach().clone()\n",
        "        \n",
        "    if i > 100 and eps > eps_min:\n",
        "        dec = 1./np.log2(i)\n",
        "        dec /= 1e3\n",
        "        eps -= dec\n",
        "    \n",
        "    if done: \n",
        "        state = preproc_state(env.reset())\n",
        "        done = False"
      ],
      "execution_count": 21,
      "outputs": []
    },
    {
      "cell_type": "code",
      "metadata": {
        "colab": {
          "base_uri": "https://localhost:8080/",
          "height": 282
        },
        "id": "sNLhV_OT-v1-",
        "outputId": "b9e9cfe4-26a1-4aa1-b1ae-50899849b8ea"
      },
      "source": [
        "plt.plot(losses)"
      ],
      "execution_count": 22,
      "outputs": [
        {
          "output_type": "execute_result",
          "data": {
            "text/plain": [
              "[<matplotlib.lines.Line2D at 0x7f5f3c5a2e10>]"
            ]
          },
          "metadata": {
            "tags": []
          },
          "execution_count": 22
        },
        {
          "output_type": "display_data",
          "data": {
            "image/png": "[encoded data removed]",
            "text/plain": [
              "<Figure size 432x288 with 1 Axes>"
            ]
          },
          "metadata": {
            "tags": [],
            "needs_background": "light"
          }
        }
      ]
    }
  ]
}