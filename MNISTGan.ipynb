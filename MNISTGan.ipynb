{
  "nbformat": 4,
  "nbformat_minor": 0,
  "metadata": {
    "colab": {
      "name": "MNISTGan.ipynb",
      "provenance": [],
      "authorship_tag": "ABX9TyPNBlUlNjxOGzJ4Ylufg0tI",
      "include_colab_link": true
    },
    "kernelspec": {
      "name": "python3",
      "display_name": "Python 3"
    },
    "accelerator": "GPU",
    "widgets": {
      "application/vnd.jupyter.widget-state+json": {
        "8a682336ac704ee08d7d99a77d398b64": {
          "model_module": "@jupyter-widgets/controls",
          "model_name": "HBoxModel",
          "state": {
            "_view_name": "HBoxView",
            "_dom_classes": [],
            "_model_name": "HBoxModel",
            "_view_module": "@jupyter-widgets/controls",
            "_model_module_version": "1.5.0",
            "_view_count": null,
            "_view_module_version": "1.5.0",
            "box_style": "",
            "layout": "IPY_MODEL_2e787d084d714a5aa2cb65d952562e89",
            "_model_module": "@jupyter-widgets/controls",
            "children": [
              "IPY_MODEL_d4f0fb3c813348eaaa54227bc13e3aef",
              "IPY_MODEL_6a6ef7fa3f9446208e9aa04e6ddd0a6c"
            ]
          }
        },
        "2e787d084d714a5aa2cb65d952562e89": {
          "model_module": "@jupyter-widgets/base",
          "model_name": "LayoutModel",
          "state": {
            "_view_name": "LayoutView",
            "grid_template_rows": null,
            "right": null,
            "justify_content": null,
            "_view_module": "@jupyter-widgets/base",
            "overflow": null,
            "_model_module_version": "1.2.0",
            "_view_count": null,
            "flex_flow": null,
            "width": null,
            "min_width": null,
            "border": null,
            "align_items": null,
            "bottom": null,
            "_model_module": "@jupyter-widgets/base",
            "top": null,
            "grid_column": null,
            "overflow_y": null,
            "overflow_x": null,
            "grid_auto_flow": null,
            "grid_area": null,
            "grid_template_columns": null,
            "flex": null,
            "_model_name": "LayoutModel",
            "justify_items": null,
            "grid_row": null,
            "max_height": null,
            "align_content": null,
            "visibility": null,
            "align_self": null,
            "height": null,
            "min_height": null,
            "padding": null,
            "grid_auto_rows": null,
            "grid_gap": null,
            "max_width": null,
            "order": null,
            "_view_module_version": "1.2.0",
            "grid_template_areas": null,
            "object_position": null,
            "object_fit": null,
            "grid_auto_columns": null,
            "margin": null,
            "display": null,
            "left": null
          }
        },
        "d4f0fb3c813348eaaa54227bc13e3aef": {
          "model_module": "@jupyter-widgets/controls",
          "model_name": "IntProgressModel",
          "state": {
            "_view_name": "ProgressView",
            "style": "IPY_MODEL_0ed55eaec1574908aae23119378664ab",
            "_dom_classes": [],
            "description": "",
            "_model_name": "IntProgressModel",
            "bar_style": "success",
            "max": 1,
            "_view_module": "@jupyter-widgets/controls",
            "_model_module_version": "1.5.0",
            "value": 1,
            "_view_count": null,
            "_view_module_version": "1.5.0",
            "orientation": "horizontal",
            "min": 0,
            "description_tooltip": null,
            "_model_module": "@jupyter-widgets/controls",
            "layout": "IPY_MODEL_27e11490c2894b2eb99a3ebbd217601f"
          }
        },
        "6a6ef7fa3f9446208e9aa04e6ddd0a6c": {
          "model_module": "@jupyter-widgets/controls",
          "model_name": "HTMLModel",
          "state": {
            "_view_name": "HTMLView",
            "style": "IPY_MODEL_36b3e6b4549542b89a856c644f5bb37c",
            "_dom_classes": [],
            "description": "",
            "_model_name": "HTMLModel",
            "placeholder": "​",
            "_view_module": "@jupyter-widgets/controls",
            "_model_module_version": "1.5.0",
            "value": "9920512it [00:02, 3584006.01it/s]",
            "_view_count": null,
            "_view_module_version": "1.5.0",
            "description_tooltip": null,
            "_model_module": "@jupyter-widgets/controls",
            "layout": "IPY_MODEL_5a3a3b7a14b245888e54a1e3630f1e3f"
          }
        },
        "0ed55eaec1574908aae23119378664ab": {
          "model_module": "@jupyter-widgets/controls",
          "model_name": "ProgressStyleModel",
          "state": {
            "_view_name": "StyleView",
            "_model_name": "ProgressStyleModel",
            "description_width": "",
            "_view_module": "@jupyter-widgets/base",
            "_model_module_version": "1.5.0",
            "_view_count": null,
            "_view_module_version": "1.2.0",
            "bar_color": null,
            "_model_module": "@jupyter-widgets/controls"
          }
        },
        "27e11490c2894b2eb99a3ebbd217601f": {
          "model_module": "@jupyter-widgets/base",
          "model_name": "LayoutModel",
          "state": {
            "_view_name": "LayoutView",
            "grid_template_rows": null,
            "right": null,
            "justify_content": null,
            "_view_module": "@jupyter-widgets/base",
            "overflow": null,
            "_model_module_version": "1.2.0",
            "_view_count": null,
            "flex_flow": null,
            "width": null,
            "min_width": null,
            "border": null,
            "align_items": null,
            "bottom": null,
            "_model_module": "@jupyter-widgets/base",
            "top": null,
            "grid_column": null,
            "overflow_y": null,
            "overflow_x": null,
            "grid_auto_flow": null,
            "grid_area": null,
            "grid_template_columns": null,
            "flex": null,
            "_model_name": "LayoutModel",
            "justify_items": null,
            "grid_row": null,
            "max_height": null,
            "align_content": null,
            "visibility": null,
            "align_self": null,
            "height": null,
            "min_height": null,
            "padding": null,
            "grid_auto_rows": null,
            "grid_gap": null,
            "max_width": null,
            "order": null,
            "_view_module_version": "1.2.0",
            "grid_template_areas": null,
            "object_position": null,
            "object_fit": null,
            "grid_auto_columns": null,
            "margin": null,
            "display": null,
            "left": null
          }
        },
        "36b3e6b4549542b89a856c644f5bb37c": {
          "model_module": "@jupyter-widgets/controls",
          "model_name": "DescriptionStyleModel",
          "state": {
            "_view_name": "StyleView",
            "_model_name": "DescriptionStyleModel",
            "description_width": "",
            "_view_module": "@jupyter-widgets/base",
            "_model_module_version": "1.5.0",
            "_view_count": null,
            "_view_module_version": "1.2.0",
            "_model_module": "@jupyter-widgets/controls"
          }
        },
        "5a3a3b7a14b245888e54a1e3630f1e3f": {
          "model_module": "@jupyter-widgets/base",
          "model_name": "LayoutModel",
          "state": {
            "_view_name": "LayoutView",
            "grid_template_rows": null,
            "right": null,
            "justify_content": null,
            "_view_module": "@jupyter-widgets/base",
            "overflow": null,
            "_model_module_version": "1.2.0",
            "_view_count": null,
            "flex_flow": null,
            "width": null,
            "min_width": null,
            "border": null,
            "align_items": null,
            "bottom": null,
            "_model_module": "@jupyter-widgets/base",
            "top": null,
            "grid_column": null,
            "overflow_y": null,
            "overflow_x": null,
            "grid_auto_flow": null,
            "grid_area": null,
            "grid_template_columns": null,
            "flex": null,
            "_model_name": "LayoutModel",
            "justify_items": null,
            "grid_row": null,
            "max_height": null,
            "align_content": null,
            "visibility": null,
            "align_self": null,
            "height": null,
            "min_height": null,
            "padding": null,
            "grid_auto_rows": null,
            "grid_gap": null,
            "max_width": null,
            "order": null,
            "_view_module_version": "1.2.0",
            "grid_template_areas": null,
            "object_position": null,
            "object_fit": null,
            "grid_auto_columns": null,
            "margin": null,
            "display": null,
            "left": null
          }
        },
        "6915cad3d93141f9a807d00db1b8bfcf": {
          "model_module": "@jupyter-widgets/controls",
          "model_name": "HBoxModel",
          "state": {
            "_view_name": "HBoxView",
            "_dom_classes": [],
            "_model_name": "HBoxModel",
            "_view_module": "@jupyter-widgets/controls",
            "_model_module_version": "1.5.0",
            "_view_count": null,
            "_view_module_version": "1.5.0",
            "box_style": "",
            "layout": "IPY_MODEL_33a726b9953f4621854fe9a6b3507b30",
            "_model_module": "@jupyter-widgets/controls",
            "children": [
              "IPY_MODEL_f8846e35fa97467cae405d23efeff59c",
              "IPY_MODEL_3fff52c58b00491f9180ba15de54c778"
            ]
          }
        },
        "33a726b9953f4621854fe9a6b3507b30": {
          "model_module": "@jupyter-widgets/base",
          "model_name": "LayoutModel",
          "state": {
            "_view_name": "LayoutView",
            "grid_template_rows": null,
            "right": null,
            "justify_content": null,
            "_view_module": "@jupyter-widgets/base",
            "overflow": null,
            "_model_module_version": "1.2.0",
            "_view_count": null,
            "flex_flow": null,
            "width": null,
            "min_width": null,
            "border": null,
            "align_items": null,
            "bottom": null,
            "_model_module": "@jupyter-widgets/base",
            "top": null,
            "grid_column": null,
            "overflow_y": null,
            "overflow_x": null,
            "grid_auto_flow": null,
            "grid_area": null,
            "grid_template_columns": null,
            "flex": null,
            "_model_name": "LayoutModel",
            "justify_items": null,
            "grid_row": null,
            "max_height": null,
            "align_content": null,
            "visibility": null,
            "align_self": null,
            "height": null,
            "min_height": null,
            "padding": null,
            "grid_auto_rows": null,
            "grid_gap": null,
            "max_width": null,
            "order": null,
            "_view_module_version": "1.2.0",
            "grid_template_areas": null,
            "object_position": null,
            "object_fit": null,
            "grid_auto_columns": null,
            "margin": null,
            "display": null,
            "left": null
          }
        },
        "f8846e35fa97467cae405d23efeff59c": {
          "model_module": "@jupyter-widgets/controls",
          "model_name": "IntProgressModel",
          "state": {
            "_view_name": "ProgressView",
            "style": "IPY_MODEL_fe7119c7186a4b20aa7f1b84d796a960",
            "_dom_classes": [],
            "description": "",
            "_model_name": "IntProgressModel",
            "bar_style": "success",
            "max": 1,
            "_view_module": "@jupyter-widgets/controls",
            "_model_module_version": "1.5.0",
            "value": 1,
            "_view_count": null,
            "_view_module_version": "1.5.0",
            "orientation": "horizontal",
            "min": 0,
            "description_tooltip": null,
            "_model_module": "@jupyter-widgets/controls",
            "layout": "IPY_MODEL_3897c738b04042608c127cd88a3a2045"
          }
        },
        "3fff52c58b00491f9180ba15de54c778": {
          "model_module": "@jupyter-widgets/controls",
          "model_name": "HTMLModel",
          "state": {
            "_view_name": "HTMLView",
            "style": "IPY_MODEL_e82da3cc675c4d5a9736663d3831d5a8",
            "_dom_classes": [],
            "description": "",
            "_model_name": "HTMLModel",
            "placeholder": "​",
            "_view_module": "@jupyter-widgets/controls",
            "_model_module_version": "1.5.0",
            "value": "32768it [00:00, 46493.16it/s]",
            "_view_count": null,
            "_view_module_version": "1.5.0",
            "description_tooltip": null,
            "_model_module": "@jupyter-widgets/controls",
            "layout": "IPY_MODEL_1ec30f89901c4dfabe4cfb0621b2d120"
          }
        },
        "fe7119c7186a4b20aa7f1b84d796a960": {
          "model_module": "@jupyter-widgets/controls",
          "model_name": "ProgressStyleModel",
          "state": {
            "_view_name": "StyleView",
            "_model_name": "ProgressStyleModel",
            "description_width": "",
            "_view_module": "@jupyter-widgets/base",
            "_model_module_version": "1.5.0",
            "_view_count": null,
            "_view_module_version": "1.2.0",
            "bar_color": null,
            "_model_module": "@jupyter-widgets/controls"
          }
        },
        "3897c738b04042608c127cd88a3a2045": {
          "model_module": "@jupyter-widgets/base",
          "model_name": "LayoutModel",
          "state": {
            "_view_name": "LayoutView",
            "grid_template_rows": null,
            "right": null,
            "justify_content": null,
            "_view_module": "@jupyter-widgets/base",
            "overflow": null,
            "_model_module_version": "1.2.0",
            "_view_count": null,
            "flex_flow": null,
            "width": null,
            "min_width": null,
            "border": null,
            "align_items": null,
            "bottom": null,
            "_model_module": "@jupyter-widgets/base",
            "top": null,
            "grid_column": null,
            "overflow_y": null,
            "overflow_x": null,
            "grid_auto_flow": null,
            "grid_area": null,
            "grid_template_columns": null,
            "flex": null,
            "_model_name": "LayoutModel",
            "justify_items": null,
            "grid_row": null,
            "max_height": null,
            "align_content": null,
            "visibility": null,
            "align_self": null,
            "height": null,
            "min_height": null,
            "padding": null,
            "grid_auto_rows": null,
            "grid_gap": null,
            "max_width": null,
            "order": null,
            "_view_module_version": "1.2.0",
            "grid_template_areas": null,
            "object_position": null,
            "object_fit": null,
            "grid_auto_columns": null,
            "margin": null,
            "display": null,
            "left": null
          }
        },
        "e82da3cc675c4d5a9736663d3831d5a8": {
          "model_module": "@jupyter-widgets/controls",
          "model_name": "DescriptionStyleModel",
          "state": {
            "_view_name": "StyleView",
            "_model_name": "DescriptionStyleModel",
            "description_width": "",
            "_view_module": "@jupyter-widgets/base",
            "_model_module_version": "1.5.0",
            "_view_count": null,
            "_view_module_version": "1.2.0",
            "_model_module": "@jupyter-widgets/controls"
          }
        },
        "1ec30f89901c4dfabe4cfb0621b2d120": {
          "model_module": "@jupyter-widgets/base",
          "model_name": "LayoutModel",
          "state": {
            "_view_name": "LayoutView",
            "grid_template_rows": null,
            "right": null,
            "justify_content": null,
            "_view_module": "@jupyter-widgets/base",
            "overflow": null,
            "_model_module_version": "1.2.0",
            "_view_count": null,
            "flex_flow": null,
            "width": null,
            "min_width": null,
            "border": null,
            "align_items": null,
            "bottom": null,
            "_model_module": "@jupyter-widgets/base",
            "top": null,
            "grid_column": null,
            "overflow_y": null,
            "overflow_x": null,
            "grid_auto_flow": null,
            "grid_area": null,
            "grid_template_columns": null,
            "flex": null,
            "_model_name": "LayoutModel",
            "justify_items": null,
            "grid_row": null,
            "max_height": null,
            "align_content": null,
            "visibility": null,
            "align_self": null,
            "height": null,
            "min_height": null,
            "padding": null,
            "grid_auto_rows": null,
            "grid_gap": null,
            "max_width": null,
            "order": null,
            "_view_module_version": "1.2.0",
            "grid_template_areas": null,
            "object_position": null,
            "object_fit": null,
            "grid_auto_columns": null,
            "margin": null,
            "display": null,
            "left": null
          }
        },
        "727ba3cf849e4b259c3a327057b69106": {
          "model_module": "@jupyter-widgets/controls",
          "model_name": "HBoxModel",
          "state": {
            "_view_name": "HBoxView",
            "_dom_classes": [],
            "_model_name": "HBoxModel",
            "_view_module": "@jupyter-widgets/controls",
            "_model_module_version": "1.5.0",
            "_view_count": null,
            "_view_module_version": "1.5.0",
            "box_style": "",
            "layout": "IPY_MODEL_982bdadf12b24aba8b10437eb3d33ebc",
            "_model_module": "@jupyter-widgets/controls",
            "children": [
              "IPY_MODEL_b80db3fa5252487c8e7006956ac19e5f",
              "IPY_MODEL_aa430b39742d4189960dab46f468574b"
            ]
          }
        },
        "982bdadf12b24aba8b10437eb3d33ebc": {
          "model_module": "@jupyter-widgets/base",
          "model_name": "LayoutModel",
          "state": {
            "_view_name": "LayoutView",
            "grid_template_rows": null,
            "right": null,
            "justify_content": null,
            "_view_module": "@jupyter-widgets/base",
            "overflow": null,
            "_model_module_version": "1.2.0",
            "_view_count": null,
            "flex_flow": null,
            "width": null,
            "min_width": null,
            "border": null,
            "align_items": null,
            "bottom": null,
            "_model_module": "@jupyter-widgets/base",
            "top": null,
            "grid_column": null,
            "overflow_y": null,
            "overflow_x": null,
            "grid_auto_flow": null,
            "grid_area": null,
            "grid_template_columns": null,
            "flex": null,
            "_model_name": "LayoutModel",
            "justify_items": null,
            "grid_row": null,
            "max_height": null,
            "align_content": null,
            "visibility": null,
            "align_self": null,
            "height": null,
            "min_height": null,
            "padding": null,
            "grid_auto_rows": null,
            "grid_gap": null,
            "max_width": null,
            "order": null,
            "_view_module_version": "1.2.0",
            "grid_template_areas": null,
            "object_position": null,
            "object_fit": null,
            "grid_auto_columns": null,
            "margin": null,
            "display": null,
            "left": null
          }
        },
        "b80db3fa5252487c8e7006956ac19e5f": {
          "model_module": "@jupyter-widgets/controls",
          "model_name": "IntProgressModel",
          "state": {
            "_view_name": "ProgressView",
            "style": "IPY_MODEL_e1bda76e47754b4f9191e06b94a0bc01",
            "_dom_classes": [],
            "description": "",
            "_model_name": "IntProgressModel",
            "bar_style": "success",
            "max": 1,
            "_view_module": "@jupyter-widgets/controls",
            "_model_module_version": "1.5.0",
            "value": 1,
            "_view_count": null,
            "_view_module_version": "1.5.0",
            "orientation": "horizontal",
            "min": 0,
            "description_tooltip": null,
            "_model_module": "@jupyter-widgets/controls",
            "layout": "IPY_MODEL_b9b488964bc544598ee9c2d4af032bb7"
          }
        },
        "aa430b39742d4189960dab46f468574b": {
          "model_module": "@jupyter-widgets/controls",
          "model_name": "HTMLModel",
          "state": {
            "_view_name": "HTMLView",
            "style": "IPY_MODEL_cac1ab320d7248bfaf65605ef2c2457f",
            "_dom_classes": [],
            "description": "",
            "_model_name": "HTMLModel",
            "placeholder": "​",
            "_view_module": "@jupyter-widgets/controls",
            "_model_module_version": "1.5.0",
            "value": "1654784it [00:02, 805692.14it/s]",
            "_view_count": null,
            "_view_module_version": "1.5.0",
            "description_tooltip": null,
            "_model_module": "@jupyter-widgets/controls",
            "layout": "IPY_MODEL_148593ff7a4c4769a38b9a7f69475c72"
          }
        },
        "e1bda76e47754b4f9191e06b94a0bc01": {
          "model_module": "@jupyter-widgets/controls",
          "model_name": "ProgressStyleModel",
          "state": {
            "_view_name": "StyleView",
            "_model_name": "ProgressStyleModel",
            "description_width": "",
            "_view_module": "@jupyter-widgets/base",
            "_model_module_version": "1.5.0",
            "_view_count": null,
            "_view_module_version": "1.2.0",
            "bar_color": null,
            "_model_module": "@jupyter-widgets/controls"
          }
        },
        "b9b488964bc544598ee9c2d4af032bb7": {
          "model_module": "@jupyter-widgets/base",
          "model_name": "LayoutModel",
          "state": {
            "_view_name": "LayoutView",
            "grid_template_rows": null,
            "right": null,
            "justify_content": null,
            "_view_module": "@jupyter-widgets/base",
            "overflow": null,
            "_model_module_version": "1.2.0",
            "_view_count": null,
            "flex_flow": null,
            "width": null,
            "min_width": null,
            "border": null,
            "align_items": null,
            "bottom": null,
            "_model_module": "@jupyter-widgets/base",
            "top": null,
            "grid_column": null,
            "overflow_y": null,
            "overflow_x": null,
            "grid_auto_flow": null,
            "grid_area": null,
            "grid_template_columns": null,
            "flex": null,
            "_model_name": "LayoutModel",
            "justify_items": null,
            "grid_row": null,
            "max_height": null,
            "align_content": null,
            "visibility": null,
            "align_self": null,
            "height": null,
            "min_height": null,
            "padding": null,
            "grid_auto_rows": null,
            "grid_gap": null,
            "max_width": null,
            "order": null,
            "_view_module_version": "1.2.0",
            "grid_template_areas": null,
            "object_position": null,
            "object_fit": null,
            "grid_auto_columns": null,
            "margin": null,
            "display": null,
            "left": null
          }
        },
        "cac1ab320d7248bfaf65605ef2c2457f": {
          "model_module": "@jupyter-widgets/controls",
          "model_name": "DescriptionStyleModel",
          "state": {
            "_view_name": "StyleView",
            "_model_name": "DescriptionStyleModel",
            "description_width": "",
            "_view_module": "@jupyter-widgets/base",
            "_model_module_version": "1.5.0",
            "_view_count": null,
            "_view_module_version": "1.2.0",
            "_model_module": "@jupyter-widgets/controls"
          }
        },
        "148593ff7a4c4769a38b9a7f69475c72": {
          "model_module": "@jupyter-widgets/base",
          "model_name": "LayoutModel",
          "state": {
            "_view_name": "LayoutView",
            "grid_template_rows": null,
            "right": null,
            "justify_content": null,
            "_view_module": "@jupyter-widgets/base",
            "overflow": null,
            "_model_module_version": "1.2.0",
            "_view_count": null,
            "flex_flow": null,
            "width": null,
            "min_width": null,
            "border": null,
            "align_items": null,
            "bottom": null,
            "_model_module": "@jupyter-widgets/base",
            "top": null,
            "grid_column": null,
            "overflow_y": null,
            "overflow_x": null,
            "grid_auto_flow": null,
            "grid_area": null,
            "grid_template_columns": null,
            "flex": null,
            "_model_name": "LayoutModel",
            "justify_items": null,
            "grid_row": null,
            "max_height": null,
            "align_content": null,
            "visibility": null,
            "align_self": null,
            "height": null,
            "min_height": null,
            "padding": null,
            "grid_auto_rows": null,
            "grid_gap": null,
            "max_width": null,
            "order": null,
            "_view_module_version": "1.2.0",
            "grid_template_areas": null,
            "object_position": null,
            "object_fit": null,
            "grid_auto_columns": null,
            "margin": null,
            "display": null,
            "left": null
          }
        },
        "36e26f8a5de54e64bb27052add22d68a": {
          "model_module": "@jupyter-widgets/controls",
          "model_name": "HBoxModel",
          "state": {
            "_view_name": "HBoxView",
            "_dom_classes": [],
            "_model_name": "HBoxModel",
            "_view_module": "@jupyter-widgets/controls",
            "_model_module_version": "1.5.0",
            "_view_count": null,
            "_view_module_version": "1.5.0",
            "box_style": "",
            "layout": "IPY_MODEL_7ceab1dd7ebe422baad58d3438f911a8",
            "_model_module": "@jupyter-widgets/controls",
            "children": [
              "IPY_MODEL_f6bfd5f2789a4a11a54950fef34087a4",
              "IPY_MODEL_40546352b7e84b41b5a986cccd24a50b"
            ]
          }
        },
        "7ceab1dd7ebe422baad58d3438f911a8": {
          "model_module": "@jupyter-widgets/base",
          "model_name": "LayoutModel",
          "state": {
            "_view_name": "LayoutView",
            "grid_template_rows": null,
            "right": null,
            "justify_content": null,
            "_view_module": "@jupyter-widgets/base",
            "overflow": null,
            "_model_module_version": "1.2.0",
            "_view_count": null,
            "flex_flow": null,
            "width": null,
            "min_width": null,
            "border": null,
            "align_items": null,
            "bottom": null,
            "_model_module": "@jupyter-widgets/base",
            "top": null,
            "grid_column": null,
            "overflow_y": null,
            "overflow_x": null,
            "grid_auto_flow": null,
            "grid_area": null,
            "grid_template_columns": null,
            "flex": null,
            "_model_name": "LayoutModel",
            "justify_items": null,
            "grid_row": null,
            "max_height": null,
            "align_content": null,
            "visibility": null,
            "align_self": null,
            "height": null,
            "min_height": null,
            "padding": null,
            "grid_auto_rows": null,
            "grid_gap": null,
            "max_width": null,
            "order": null,
            "_view_module_version": "1.2.0",
            "grid_template_areas": null,
            "object_position": null,
            "object_fit": null,
            "grid_auto_columns": null,
            "margin": null,
            "display": null,
            "left": null
          }
        },
        "f6bfd5f2789a4a11a54950fef34087a4": {
          "model_module": "@jupyter-widgets/controls",
          "model_name": "IntProgressModel",
          "state": {
            "_view_name": "ProgressView",
            "style": "IPY_MODEL_b2d185deacf14d529d6b93469d3d26e6",
            "_dom_classes": [],
            "description": "",
            "_model_name": "IntProgressModel",
            "bar_style": "success",
            "max": 1,
            "_view_module": "@jupyter-widgets/controls",
            "_model_module_version": "1.5.0",
            "value": 1,
            "_view_count": null,
            "_view_module_version": "1.5.0",
            "orientation": "horizontal",
            "min": 0,
            "description_tooltip": null,
            "_model_module": "@jupyter-widgets/controls",
            "layout": "IPY_MODEL_52ac6fc73a4f46f2afd2e906ed49c6a0"
          }
        },
        "40546352b7e84b41b5a986cccd24a50b": {
          "model_module": "@jupyter-widgets/controls",
          "model_name": "HTMLModel",
          "state": {
            "_view_name": "HTMLView",
            "style": "IPY_MODEL_cae372b63fa144f79ae34057ada92612",
            "_dom_classes": [],
            "description": "",
            "_model_name": "HTMLModel",
            "placeholder": "​",
            "_view_module": "@jupyter-widgets/controls",
            "_model_module_version": "1.5.0",
            "value": "8192it [00:00, 17344.77it/s]",
            "_view_count": null,
            "_view_module_version": "1.5.0",
            "description_tooltip": null,
            "_model_module": "@jupyter-widgets/controls",
            "layout": "IPY_MODEL_0b6d477c0c8b44c0a9a09ff0b0ac695f"
          }
        },
        "b2d185deacf14d529d6b93469d3d26e6": {
          "model_module": "@jupyter-widgets/controls",
          "model_name": "ProgressStyleModel",
          "state": {
            "_view_name": "StyleView",
            "_model_name": "ProgressStyleModel",
            "description_width": "",
            "_view_module": "@jupyter-widgets/base",
            "_model_module_version": "1.5.0",
            "_view_count": null,
            "_view_module_version": "1.2.0",
            "bar_color": null,
            "_model_module": "@jupyter-widgets/controls"
          }
        },
        "52ac6fc73a4f46f2afd2e906ed49c6a0": {
          "model_module": "@jupyter-widgets/base",
          "model_name": "LayoutModel",
          "state": {
            "_view_name": "LayoutView",
            "grid_template_rows": null,
            "right": null,
            "justify_content": null,
            "_view_module": "@jupyter-widgets/base",
            "overflow": null,
            "_model_module_version": "1.2.0",
            "_view_count": null,
            "flex_flow": null,
            "width": null,
            "min_width": null,
            "border": null,
            "align_items": null,
            "bottom": null,
            "_model_module": "@jupyter-widgets/base",
            "top": null,
            "grid_column": null,
            "overflow_y": null,
            "overflow_x": null,
            "grid_auto_flow": null,
            "grid_area": null,
            "grid_template_columns": null,
            "flex": null,
            "_model_name": "LayoutModel",
            "justify_items": null,
            "grid_row": null,
            "max_height": null,
            "align_content": null,
            "visibility": null,
            "align_self": null,
            "height": null,
            "min_height": null,
            "padding": null,
            "grid_auto_rows": null,
            "grid_gap": null,
            "max_width": null,
            "order": null,
            "_view_module_version": "1.2.0",
            "grid_template_areas": null,
            "object_position": null,
            "object_fit": null,
            "grid_auto_columns": null,
            "margin": null,
            "display": null,
            "left": null
          }
        },
        "cae372b63fa144f79ae34057ada92612": {
          "model_module": "@jupyter-widgets/controls",
          "model_name": "DescriptionStyleModel",
          "state": {
            "_view_name": "StyleView",
            "_model_name": "DescriptionStyleModel",
            "description_width": "",
            "_view_module": "@jupyter-widgets/base",
            "_model_module_version": "1.5.0",
            "_view_count": null,
            "_view_module_version": "1.2.0",
            "_model_module": "@jupyter-widgets/controls"
          }
        },
        "0b6d477c0c8b44c0a9a09ff0b0ac695f": {
          "model_module": "@jupyter-widgets/base",
          "model_name": "LayoutModel",
          "state": {
            "_view_name": "LayoutView",
            "grid_template_rows": null,
            "right": null,
            "justify_content": null,
            "_view_module": "@jupyter-widgets/base",
            "overflow": null,
            "_model_module_version": "1.2.0",
            "_view_count": null,
            "flex_flow": null,
            "width": null,
            "min_width": null,
            "border": null,
            "align_items": null,
            "bottom": null,
            "_model_module": "@jupyter-widgets/base",
            "top": null,
            "grid_column": null,
            "overflow_y": null,
            "overflow_x": null,
            "grid_auto_flow": null,
            "grid_area": null,
            "grid_template_columns": null,
            "flex": null,
            "_model_name": "LayoutModel",
            "justify_items": null,
            "grid_row": null,
            "max_height": null,
            "align_content": null,
            "visibility": null,
            "align_self": null,
            "height": null,
            "min_height": null,
            "padding": null,
            "grid_auto_rows": null,
            "grid_gap": null,
            "max_width": null,
            "order": null,
            "_view_module_version": "1.2.0",
            "grid_template_areas": null,
            "object_position": null,
            "object_fit": null,
            "grid_auto_columns": null,
            "margin": null,
            "display": null,
            "left": null
          }
        }
      }
    }
  },
  "cells": [
    {
      "cell_type": "markdown",
      "metadata": {
        "id": "view-in-github",
        "colab_type": "text"
      },
      "source": [
        "<a href=\"https://colab.research.google.com/github/yashk2000/BolleRenverse/blob/master/MNISTGan.ipynb\" target=\"_parent\"><img src=\"https://colab.research.google.com/assets/colab-badge.svg\" alt=\"Open In Colab\"/></a>"
      ]
    },
    {
      "cell_type": "code",
      "metadata": {
        "id": "kSPJfHnz3k1W",
        "colab_type": "code",
        "colab": {}
      },
      "source": [
        "import numpy as np\n",
        "import torch\n",
        "import matplotlib.pyplot as plt"
      ],
      "execution_count": 0,
      "outputs": []
    },
    {
      "cell_type": "code",
      "metadata": {
        "id": "eePZJyWe4lrM",
        "colab_type": "code",
        "outputId": "aab3f95a-312b-4f10-8782-98bf2ea37969",
        "colab": {
          "base_uri": "https://localhost:8080/",
          "height": 417,
          "referenced_widgets": [
            "8a682336ac704ee08d7d99a77d398b64",
            "2e787d084d714a5aa2cb65d952562e89",
            "d4f0fb3c813348eaaa54227bc13e3aef",
            "6a6ef7fa3f9446208e9aa04e6ddd0a6c",
            "0ed55eaec1574908aae23119378664ab",
            "27e11490c2894b2eb99a3ebbd217601f",
            "36b3e6b4549542b89a856c644f5bb37c",
            "5a3a3b7a14b245888e54a1e3630f1e3f",
            "6915cad3d93141f9a807d00db1b8bfcf",
            "33a726b9953f4621854fe9a6b3507b30",
            "f8846e35fa97467cae405d23efeff59c",
            "3fff52c58b00491f9180ba15de54c778",
            "fe7119c7186a4b20aa7f1b84d796a960",
            "3897c738b04042608c127cd88a3a2045",
            "e82da3cc675c4d5a9736663d3831d5a8",
            "1ec30f89901c4dfabe4cfb0621b2d120",
            "727ba3cf849e4b259c3a327057b69106",
            "982bdadf12b24aba8b10437eb3d33ebc",
            "b80db3fa5252487c8e7006956ac19e5f",
            "aa430b39742d4189960dab46f468574b",
            "e1bda76e47754b4f9191e06b94a0bc01",
            "b9b488964bc544598ee9c2d4af032bb7",
            "cac1ab320d7248bfaf65605ef2c2457f",
            "148593ff7a4c4769a38b9a7f69475c72",
            "36e26f8a5de54e64bb27052add22d68a",
            "7ceab1dd7ebe422baad58d3438f911a8",
            "f6bfd5f2789a4a11a54950fef34087a4",
            "40546352b7e84b41b5a986cccd24a50b",
            "b2d185deacf14d529d6b93469d3d26e6",
            "52ac6fc73a4f46f2afd2e906ed49c6a0",
            "cae372b63fa144f79ae34057ada92612",
            "0b6d477c0c8b44c0a9a09ff0b0ac695f"
          ]
        }
      },
      "source": [
        "from torchvision import datasets\n",
        "import torchvision.transforms as transforms\n",
        "\n",
        "num_workers = 0\n",
        "batch_size = 64\n",
        "\n",
        "transform = transforms.ToTensor()\n",
        "\n",
        "train_data = datasets.MNIST(root = 'data', train = True, download = True, transform = transform)\n",
        "\n",
        "train_loader = torch.utils.data.DataLoader(train_data, batch_size = batch_size, num_workers = num_workers)"
      ],
      "execution_count": 4,
      "outputs": [
        {
          "output_type": "stream",
          "text": [
            "Downloading http://yann.lecun.com/exdb/mnist/train-images-idx3-ubyte.gz to data/MNIST/raw/train-images-idx3-ubyte.gz\n"
          ],
          "name": "stdout"
        },
        {
          "output_type": "display_data",
          "data": {
            "application/vnd.jupyter.widget-view+json": {
              "model_id": "8a682336ac704ee08d7d99a77d398b64",
              "version_minor": 0,
              "version_major": 2
            },
            "text/plain": [
              "HBox(children=(IntProgress(value=1, bar_style='info', max=1), HTML(value='')))"
            ]
          },
          "metadata": {
            "tags": []
          }
        },
        {
          "output_type": "stream",
          "text": [
            "\n",
            "Extracting data/MNIST/raw/train-images-idx3-ubyte.gz to data/MNIST/raw\n",
            "Downloading http://yann.lecun.com/exdb/mnist/train-labels-idx1-ubyte.gz to data/MNIST/raw/train-labels-idx1-ubyte.gz\n"
          ],
          "name": "stdout"
        },
        {
          "output_type": "display_data",
          "data": {
            "application/vnd.jupyter.widget-view+json": {
              "model_id": "6915cad3d93141f9a807d00db1b8bfcf",
              "version_minor": 0,
              "version_major": 2
            },
            "text/plain": [
              "HBox(children=(IntProgress(value=1, bar_style='info', max=1), HTML(value='')))"
            ]
          },
          "metadata": {
            "tags": []
          }
        },
        {
          "output_type": "stream",
          "text": [
            "\n",
            "Extracting data/MNIST/raw/train-labels-idx1-ubyte.gz to data/MNIST/raw\n",
            "Downloading http://yann.lecun.com/exdb/mnist/t10k-images-idx3-ubyte.gz to data/MNIST/raw/t10k-images-idx3-ubyte.gz\n"
          ],
          "name": "stdout"
        },
        {
          "output_type": "display_data",
          "data": {
            "application/vnd.jupyter.widget-view+json": {
              "model_id": "727ba3cf849e4b259c3a327057b69106",
              "version_minor": 0,
              "version_major": 2
            },
            "text/plain": [
              "HBox(children=(IntProgress(value=1, bar_style='info', max=1), HTML(value='')))"
            ]
          },
          "metadata": {
            "tags": []
          }
        },
        {
          "output_type": "stream",
          "text": [
            "\n",
            "Extracting data/MNIST/raw/t10k-images-idx3-ubyte.gz to data/MNIST/raw\n",
            "Downloading http://yann.lecun.com/exdb/mnist/t10k-labels-idx1-ubyte.gz to data/MNIST/raw/t10k-labels-idx1-ubyte.gz\n"
          ],
          "name": "stdout"
        },
        {
          "output_type": "display_data",
          "data": {
            "application/vnd.jupyter.widget-view+json": {
              "model_id": "36e26f8a5de54e64bb27052add22d68a",
              "version_minor": 0,
              "version_major": 2
            },
            "text/plain": [
              "HBox(children=(IntProgress(value=1, bar_style='info', max=1), HTML(value='')))"
            ]
          },
          "metadata": {
            "tags": []
          }
        },
        {
          "output_type": "stream",
          "text": [
            "\n",
            "Extracting data/MNIST/raw/t10k-labels-idx1-ubyte.gz to data/MNIST/raw\n",
            "Processing...\n",
            "Done!\n"
          ],
          "name": "stdout"
        }
      ]
    },
    {
      "cell_type": "code",
      "metadata": {
        "id": "EwGT_yKP5p1O",
        "colab_type": "code",
        "outputId": "dc085890-2f72-483e-dd84-46381a785901",
        "colab": {
          "base_uri": "https://localhost:8080/",
          "height": 230
        }
      },
      "source": [
        "dataiter = iter(train_loader)\n",
        "images, labels = dataiter.next()\n",
        "images = images.numpy()\n",
        "\n",
        "img = np.squeeze(images[5])\n",
        "\n",
        "fig = plt.figure(figsize = (3, 3))\n",
        "ax = fig.add_subplot(111)\n",
        "ax.imshow(img, cmap = 'gray')"
      ],
      "execution_count": 5,
      "outputs": [
        {
          "output_type": "execute_result",
          "data": {
            "text/plain": [
              "<matplotlib.image.AxesImage at 0x7fe45038c358>"
            ]
          },
          "metadata": {
            "tags": []
          },
          "execution_count": 5
        },
        {
          "output_type": "display_data",
          "data": {
            "image/png": "[encoded data removed]",
            "text/plain": [
              "<Figure size 216x216 with 1 Axes>"
            ]
          },
          "metadata": {
            "tags": []
          }
        }
      ]
    },
    {
      "cell_type": "code",
      "metadata": {
        "id": "Fcvo09MP6Gsj",
        "colab_type": "code",
        "colab": {}
      },
      "source": [
        "import torch.nn as nn\n",
        "import torch.nn.functional as F\n",
        "class Discriminator(nn.Module):\n",
        "  def __init__(self, input_size, hidden_dim, output_size):\n",
        "    super(Discriminator, self).__init__()\n",
        "\n",
        "    self.fc1 = nn.Linear(input_size, hidden_dim * 4)\n",
        "    self.fc2 = nn.Linear(hidden_dim * 4, hidden_dim * 2)\n",
        "    self.fc3 = nn.Linear(hidden_dim * 2, hidden_dim)\n",
        "\n",
        "    self.fc4 = nn.Linear(hidden_dim, output_size)\n",
        "\n",
        "    self.dropout = nn.Dropout(0.3)\n",
        "\n",
        "  def forward(self, x):\n",
        "    x = x.view(-1, 28*28)\n",
        "\n",
        "    x = F.leaky_relu(self.fc1(x), 0.2) \n",
        "    x = self.dropout(x)\n",
        "    x = F.leaky_relu(self.fc2(x), 0.2)\n",
        "    x = self.dropout(x)\n",
        "    x = F.leaky_relu(self.fc3(x), 0.2)\n",
        "    x = self.dropout(x)\n",
        "    \n",
        "    out = self.fc4(x)\n",
        "\n",
        "    return out"
      ],
      "execution_count": 0,
      "outputs": []
    },
    {
      "cell_type": "code",
      "metadata": {
        "id": "E_sEJaZY9SCI",
        "colab_type": "code",
        "colab": {}
      },
      "source": [
        "class Generator(nn.Module):\n",
        "\n",
        "  def __init__(self, input_size, hidden_dim, output_size):\n",
        "    super(Generator, self).__init__()\n",
        "    \n",
        "    self.fc1 = nn.Linear(input_size, hidden_dim)\n",
        "    self.fc2 = nn.Linear(hidden_dim, hidden_dim*2)\n",
        "    self.fc3 = nn.Linear(hidden_dim*2, hidden_dim*4)\n",
        "    \n",
        "    self.fc4 = nn.Linear(hidden_dim*4, output_size)\n",
        "    \n",
        "    self.dropout = nn.Dropout(0.3)\n",
        "\n",
        "  def forward(self, x):\n",
        "        \n",
        "    x = F.leaky_relu(self.fc1(x), 0.2) \n",
        "    x = self.dropout(x)\n",
        "    x = F.leaky_relu(self.fc2(x), 0.2)\n",
        "    x = self.dropout(x)\n",
        "    x = F.leaky_relu(self.fc3(x), 0.2)\n",
        "    x = self.dropout(x)\n",
        "    \n",
        "    out = F.tanh(self.fc4(x))\n",
        "\n",
        "    return out"
      ],
      "execution_count": 0,
      "outputs": []
    },
    {
      "cell_type": "code",
      "metadata": {
        "id": "Uqzu1-_W-bHU",
        "colab_type": "code",
        "colab": {}
      },
      "source": [
        ""
      ],
      "execution_count": 0,
      "outputs": []
    },
    {
      "cell_type": "code",
      "metadata": {
        "id": "vAbmZgPG9q9h",
        "colab_type": "code",
        "colab": {}
      },
      "source": [
        "input_size = 784\n",
        "d_output_size = 1\n",
        "d_hidden_size = 32\n",
        "\n",
        "z_size = 100\n",
        "g_output_size = 784\n",
        "g_hidden_size = 32"
      ],
      "execution_count": 0,
      "outputs": []
    },
    {
      "cell_type": "code",
      "metadata": {
        "id": "-1OyFSvD-D5x",
        "colab_type": "code",
        "outputId": "0f981df4-1a8d-4024-9717-8894ae6061a9",
        "colab": {
          "base_uri": "https://localhost:8080/",
          "height": 287
        }
      },
      "source": [
        "D = Discriminator(input_size, d_hidden_size, d_output_size)\n",
        "G = Generator(z_size, g_hidden_size, g_output_size)\n",
        "\n",
        "print(D)\n",
        "print()\n",
        "print(G)"
      ],
      "execution_count": 9,
      "outputs": [
        {
          "output_type": "stream",
          "text": [
            "Discriminator(\n",
            "  (fc1): Linear(in_features=784, out_features=128, bias=True)\n",
            "  (fc2): Linear(in_features=128, out_features=64, bias=True)\n",
            "  (fc3): Linear(in_features=64, out_features=32, bias=True)\n",
            "  (fc4): Linear(in_features=32, out_features=1, bias=True)\n",
            "  (dropout): Dropout(p=0.3, inplace=False)\n",
            ")\n",
            "\n",
            "Generator(\n",
            "  (fc1): Linear(in_features=100, out_features=32, bias=True)\n",
            "  (fc2): Linear(in_features=32, out_features=64, bias=True)\n",
            "  (fc3): Linear(in_features=64, out_features=128, bias=True)\n",
            "  (fc4): Linear(in_features=128, out_features=784, bias=True)\n",
            "  (dropout): Dropout(p=0.3, inplace=False)\n",
            ")\n"
          ],
          "name": "stdout"
        }
      ]
    },
    {
      "cell_type": "code",
      "metadata": {
        "id": "ClKuYfx0-gFg",
        "colab_type": "code",
        "colab": {}
      },
      "source": [
        "def real_loss(D_out, smooth=False):\n",
        "  batch_size = D_out.size(0)\n",
        "  if smooth:\n",
        "    labels = torch.ones(batch_size) * 0.9\n",
        "  else:\n",
        "    labels = torch.ones(batch_size) \n",
        "      \n",
        "  criterion = nn.BCEWithLogitsLoss()\n",
        "\n",
        "  loss = criterion(D_out.squeeze(), labels)\n",
        "  return loss\n",
        "\n",
        "def fake_loss(D_out):\n",
        "  batch_size = D_out.size(0)\n",
        "  labels = torch.zeros(batch_size)\n",
        "  criterion = nn.BCEWithLogitsLoss()\n",
        "  loss = criterion(D_out.squeeze(), labels)\n",
        "  return loss"
      ],
      "execution_count": 0,
      "outputs": []
    },
    {
      "cell_type": "code",
      "metadata": {
        "id": "bHmHwKI55YG6",
        "colab_type": "code",
        "colab": {}
      },
      "source": [
        "import torch.optim as optim\n",
        "\n",
        "lr = 0.002\n",
        "\n",
        "d_optimizer = optim.Adam(D.parameters(), lr)\n",
        "g_optimizer = optim.Adam(G.parameters(), lr)"
      ],
      "execution_count": 0,
      "outputs": []
    },
    {
      "cell_type": "code",
      "metadata": {
        "id": "yvUxdrM_6RFO",
        "colab_type": "code",
        "colab": {
          "base_uri": "https://localhost:8080/",
          "height": 1000
        },
        "outputId": "24a38562-63fc-4bd2-b686-40906148e50f"
      },
      "source": [
        "import pickle as pkl\n",
        "\n",
        "# training hyperparams\n",
        "num_epochs = 100\n",
        "\n",
        "# keep track of loss and generated, \"fake\" samples\n",
        "samples = []\n",
        "losses = []\n",
        "\n",
        "print_every = 400\n",
        "\n",
        "# Get some fixed data for sampling. These are images that are held\n",
        "# constant throughout training, and allow us to inspect the model's performance\n",
        "sample_size=16\n",
        "fixed_z = np.random.uniform(-1, 1, size=(sample_size, z_size))\n",
        "fixed_z = torch.from_numpy(fixed_z).float()\n",
        "\n",
        "# train the network\n",
        "D.train()\n",
        "G.train()\n",
        "for epoch in range(num_epochs):\n",
        "    \n",
        "  for batch_i, (real_images, _) in enumerate(train_loader):\n",
        "              \n",
        "    batch_size = real_images.size(0)\n",
        "    \n",
        "    ## Important rescaling step ## \n",
        "    real_images = real_images*2 - 1  # rescale input images from [0,1) to [-1, 1)\n",
        "    \n",
        "    # ============================================\n",
        "    #            TRAIN THE DISCRIMINATOR\n",
        "    # ============================================\n",
        "    \n",
        "    d_optimizer.zero_grad()\n",
        "    \n",
        "    # 1. Train with real images\n",
        "\n",
        "    # Compute the discriminator losses on real images \n",
        "    # smooth the real labels\n",
        "    D_real = D(real_images)\n",
        "    d_real_loss = real_loss(D_real, smooth=True)\n",
        "    \n",
        "    # 2. Train with fake images\n",
        "    \n",
        "    # Generate fake images\n",
        "    z = np.random.uniform(-1, 1, size=(batch_size, z_size))\n",
        "    z = torch.from_numpy(z).float()\n",
        "    fake_images = G(z)\n",
        "    \n",
        "    # Compute the discriminator losses on fake images        \n",
        "    D_fake = D(fake_images)\n",
        "    d_fake_loss = fake_loss(D_fake)\n",
        "    \n",
        "    # add up loss and perform backprop\n",
        "    d_loss = d_real_loss + d_fake_loss\n",
        "    d_loss.backward()\n",
        "    d_optimizer.step()\n",
        "    \n",
        "    \n",
        "    # =========================================\n",
        "    #            TRAIN THE GENERATOR\n",
        "    # =========================================\n",
        "    g_optimizer.zero_grad()\n",
        "    \n",
        "    # 1. Train with fake images and flipped labels\n",
        "    \n",
        "    # Generate fake images\n",
        "    z = np.random.uniform(-1, 1, size=(batch_size, z_size))\n",
        "    z = torch.from_numpy(z).float()\n",
        "    fake_images = G(z)\n",
        "    \n",
        "    # Compute the discriminator losses on fake images \n",
        "    # using flipped labels!\n",
        "    D_fake = D(fake_images)\n",
        "    g_loss = real_loss(D_fake) # use real loss to flip labels\n",
        "    \n",
        "    # perform backprop\n",
        "    g_loss.backward()\n",
        "    g_optimizer.step()\n",
        "\n",
        "    # Print some loss stats\n",
        "    if batch_i % print_every == 0:\n",
        "      # print discriminator and generator loss\n",
        "      print('Epoch [{:5d}/{:5d}] | d_loss: {:6.4f} | g_loss: {:6.4f}'.format(\n",
        "              epoch+1, num_epochs, d_loss.item(), g_loss.item()))\n",
        "\n",
        "  \n",
        "  ## AFTER EACH EPOCH##\n",
        "  # append discriminator loss and generator loss\n",
        "  losses.append((d_loss.item(), g_loss.item()))\n",
        "  \n",
        "  # generate and save sample, fake images\n",
        "  G.eval() # eval mode for generating samples\n",
        "  samples_z = G(fixed_z)\n",
        "  samples.append(samples_z)\n",
        "  G.train() # back to train mode\n",
        "\n",
        "\n",
        "# Save training generator samples\n",
        "with open('train_samples.pkl', 'wb') as f:\n",
        "  pkl.dump(samples, f)"
      ],
      "execution_count": 13,
      "outputs": [
        {
          "output_type": "stream",
          "text": [
            "/usr/local/lib/python3.6/dist-packages/torch/nn/functional.py:1340: UserWarning: nn.functional.tanh is deprecated. Use torch.tanh instead.\n",
            "  warnings.warn(\"nn.functional.tanh is deprecated. Use torch.tanh instead.\")\n"
          ],
          "name": "stderr"
        },
        {
          "output_type": "stream",
          "text": [
            "Epoch [    1/  100] | d_loss: 1.3875 | g_loss: 0.6453\n",
            "Epoch [    1/  100] | d_loss: 0.9110 | g_loss: 3.4812\n",
            "Epoch [    1/  100] | d_loss: 1.1437 | g_loss: 1.7706\n",
            "Epoch [    2/  100] | d_loss: 1.3406 | g_loss: 0.6084\n",
            "Epoch [    2/  100] | d_loss: 1.1544 | g_loss: 1.2643\n",
            "Epoch [    2/  100] | d_loss: 1.1860 | g_loss: 1.4080\n",
            "Epoch [    3/  100] | d_loss: 1.3236 | g_loss: 0.7279\n",
            "Epoch [    3/  100] | d_loss: 1.2782 | g_loss: 1.0036\n",
            "Epoch [    3/  100] | d_loss: 1.3058 | g_loss: 0.9193\n",
            "Epoch [    4/  100] | d_loss: 1.3291 | g_loss: 0.7903\n",
            "Epoch [    4/  100] | d_loss: 0.9979 | g_loss: 1.4218\n",
            "Epoch [    4/  100] | d_loss: 1.2238 | g_loss: 0.8053\n",
            "Epoch [    5/  100] | d_loss: 1.0347 | g_loss: 2.2284\n",
            "Epoch [    5/  100] | d_loss: 1.2347 | g_loss: 1.1485\n",
            "Epoch [    5/  100] | d_loss: 1.3176 | g_loss: 1.1224\n",
            "Epoch [    6/  100] | d_loss: 1.5179 | g_loss: 1.1557\n",
            "Epoch [    6/  100] | d_loss: 1.1994 | g_loss: 1.2016\n",
            "Epoch [    6/  100] | d_loss: 1.3702 | g_loss: 0.8368\n",
            "Epoch [    7/  100] | d_loss: 1.3434 | g_loss: 1.0207\n",
            "Epoch [    7/  100] | d_loss: 1.3176 | g_loss: 1.1501\n",
            "Epoch [    7/  100] | d_loss: 1.2983 | g_loss: 1.6420\n",
            "Epoch [    8/  100] | d_loss: 1.2057 | g_loss: 1.8891\n",
            "Epoch [    8/  100] | d_loss: 0.9424 | g_loss: 2.8298\n",
            "Epoch [    8/  100] | d_loss: 1.0741 | g_loss: 2.3036\n",
            "Epoch [    9/  100] | d_loss: 1.3718 | g_loss: 1.1537\n",
            "Epoch [    9/  100] | d_loss: 1.0357 | g_loss: 1.8141\n",
            "Epoch [    9/  100] | d_loss: 1.2409 | g_loss: 0.8910\n",
            "Epoch [   10/  100] | d_loss: 1.1904 | g_loss: 1.1851\n",
            "Epoch [   10/  100] | d_loss: 1.1446 | g_loss: 1.6113\n",
            "Epoch [   10/  100] | d_loss: 1.2530 | g_loss: 1.0782\n",
            "Epoch [   11/  100] | d_loss: 1.2895 | g_loss: 1.0921\n",
            "Epoch [   11/  100] | d_loss: 1.2733 | g_loss: 0.9875\n",
            "Epoch [   11/  100] | d_loss: 1.2347 | g_loss: 1.0519\n",
            "Epoch [   12/  100] | d_loss: 1.3938 | g_loss: 1.5009\n",
            "Epoch [   12/  100] | d_loss: 1.2833 | g_loss: 1.2139\n",
            "Epoch [   12/  100] | d_loss: 1.2666 | g_loss: 1.0250\n",
            "Epoch [   13/  100] | d_loss: 1.3674 | g_loss: 0.9177\n",
            "Epoch [   13/  100] | d_loss: 1.1696 | g_loss: 1.0068\n",
            "Epoch [   13/  100] | d_loss: 1.4102 | g_loss: 0.9856\n",
            "Epoch [   14/  100] | d_loss: 1.2602 | g_loss: 1.0256\n",
            "Epoch [   14/  100] | d_loss: 1.3088 | g_loss: 0.9931\n",
            "Epoch [   14/  100] | d_loss: 1.2660 | g_loss: 1.1861\n",
            "Epoch [   15/  100] | d_loss: 1.3352 | g_loss: 0.8087\n",
            "Epoch [   15/  100] | d_loss: 1.2031 | g_loss: 0.9293\n",
            "Epoch [   15/  100] | d_loss: 1.2532 | g_loss: 1.4293\n",
            "Epoch [   16/  100] | d_loss: 1.2716 | g_loss: 0.8657\n",
            "Epoch [   16/  100] | d_loss: 1.2026 | g_loss: 0.9911\n",
            "Epoch [   16/  100] | d_loss: 1.2201 | g_loss: 1.3862\n",
            "Epoch [   17/  100] | d_loss: 1.1539 | g_loss: 1.3626\n",
            "Epoch [   17/  100] | d_loss: 1.3118 | g_loss: 1.1347\n",
            "Epoch [   17/  100] | d_loss: 1.3162 | g_loss: 1.0745\n",
            "Epoch [   18/  100] | d_loss: 1.2112 | g_loss: 1.2453\n",
            "Epoch [   18/  100] | d_loss: 1.2898 | g_loss: 1.2738\n",
            "Epoch [   18/  100] | d_loss: 1.2981 | g_loss: 1.0251\n",
            "Epoch [   19/  100] | d_loss: 1.2874 | g_loss: 1.3585\n",
            "Epoch [   19/  100] | d_loss: 1.2228 | g_loss: 1.1533\n",
            "Epoch [   19/  100] | d_loss: 1.3794 | g_loss: 1.0170\n",
            "Epoch [   20/  100] | d_loss: 1.3292 | g_loss: 1.1970\n",
            "Epoch [   20/  100] | d_loss: 1.1355 | g_loss: 1.2487\n",
            "Epoch [   20/  100] | d_loss: 1.3052 | g_loss: 1.2134\n",
            "Epoch [   21/  100] | d_loss: 1.2706 | g_loss: 1.1451\n",
            "Epoch [   21/  100] | d_loss: 1.1761 | g_loss: 1.2217\n",
            "Epoch [   21/  100] | d_loss: 1.3663 | g_loss: 0.9231\n",
            "Epoch [   22/  100] | d_loss: 1.2326 | g_loss: 1.0594\n",
            "Epoch [   22/  100] | d_loss: 1.2831 | g_loss: 1.0009\n",
            "Epoch [   22/  100] | d_loss: 1.2905 | g_loss: 0.8164\n",
            "Epoch [   23/  100] | d_loss: 1.3020 | g_loss: 0.9369\n",
            "Epoch [   23/  100] | d_loss: 1.2505 | g_loss: 0.9717\n",
            "Epoch [   23/  100] | d_loss: 1.2690 | g_loss: 1.0751\n",
            "Epoch [   24/  100] | d_loss: 1.2112 | g_loss: 1.2370\n",
            "Epoch [   24/  100] | d_loss: 1.2244 | g_loss: 1.0871\n",
            "Epoch [   24/  100] | d_loss: 1.3985 | g_loss: 0.9900\n",
            "Epoch [   25/  100] | d_loss: 1.2186 | g_loss: 1.2002\n",
            "Epoch [   25/  100] | d_loss: 1.1765 | g_loss: 1.1264\n",
            "Epoch [   25/  100] | d_loss: 1.4082 | g_loss: 1.6353\n",
            "Epoch [   26/  100] | d_loss: 1.2592 | g_loss: 0.9319\n",
            "Epoch [   26/  100] | d_loss: 1.2100 | g_loss: 1.1025\n",
            "Epoch [   26/  100] | d_loss: 1.3208 | g_loss: 1.1002\n",
            "Epoch [   27/  100] | d_loss: 1.1805 | g_loss: 1.7948\n",
            "Epoch [   27/  100] | d_loss: 1.2133 | g_loss: 0.8824\n",
            "Epoch [   27/  100] | d_loss: 1.3601 | g_loss: 1.0176\n",
            "Epoch [   28/  100] | d_loss: 1.3090 | g_loss: 1.5103\n",
            "Epoch [   28/  100] | d_loss: 1.3067 | g_loss: 0.8111\n",
            "Epoch [   28/  100] | d_loss: 1.2703 | g_loss: 1.5159\n",
            "Epoch [   29/  100] | d_loss: 1.2134 | g_loss: 1.1070\n",
            "Epoch [   29/  100] | d_loss: 1.1870 | g_loss: 1.0976\n",
            "Epoch [   29/  100] | d_loss: 1.3866 | g_loss: 0.9241\n",
            "Epoch [   30/  100] | d_loss: 1.2053 | g_loss: 1.1529\n",
            "Epoch [   30/  100] | d_loss: 1.2623 | g_loss: 1.2851\n",
            "Epoch [   30/  100] | d_loss: 1.2954 | g_loss: 0.9953\n",
            "Epoch [   31/  100] | d_loss: 1.3150 | g_loss: 0.9422\n",
            "Epoch [   31/  100] | d_loss: 1.2977 | g_loss: 1.2296\n",
            "Epoch [   31/  100] | d_loss: 1.3617 | g_loss: 0.9342\n",
            "Epoch [   32/  100] | d_loss: 1.2725 | g_loss: 1.1548\n",
            "Epoch [   32/  100] | d_loss: 1.3089 | g_loss: 1.1939\n",
            "Epoch [   32/  100] | d_loss: 1.2541 | g_loss: 1.2319\n",
            "Epoch [   33/  100] | d_loss: 1.2570 | g_loss: 1.1195\n",
            "Epoch [   33/  100] | d_loss: 1.2480 | g_loss: 1.1340\n",
            "Epoch [   33/  100] | d_loss: 1.3551 | g_loss: 0.9831\n",
            "Epoch [   34/  100] | d_loss: 1.2320 | g_loss: 1.2281\n",
            "Epoch [   34/  100] | d_loss: 1.2165 | g_loss: 1.0020\n",
            "Epoch [   34/  100] | d_loss: 1.3279 | g_loss: 1.1468\n",
            "Epoch [   35/  100] | d_loss: 1.2715 | g_loss: 0.9608\n",
            "Epoch [   35/  100] | d_loss: 1.2062 | g_loss: 0.9609\n",
            "Epoch [   35/  100] | d_loss: 1.2869 | g_loss: 0.9898\n",
            "Epoch [   36/  100] | d_loss: 1.2281 | g_loss: 0.9395\n",
            "Epoch [   36/  100] | d_loss: 1.2865 | g_loss: 1.0726\n",
            "Epoch [   36/  100] | d_loss: 1.2618 | g_loss: 1.1778\n",
            "Epoch [   37/  100] | d_loss: 1.2393 | g_loss: 1.0450\n",
            "Epoch [   37/  100] | d_loss: 1.2449 | g_loss: 0.9907\n",
            "Epoch [   37/  100] | d_loss: 1.3035 | g_loss: 1.0889\n",
            "Epoch [   38/  100] | d_loss: 1.3533 | g_loss: 1.0803\n",
            "Epoch [   38/  100] | d_loss: 1.3142 | g_loss: 0.9480\n",
            "Epoch [   38/  100] | d_loss: 1.3602 | g_loss: 0.8917\n",
            "Epoch [   39/  100] | d_loss: 1.2678 | g_loss: 0.8207\n",
            "Epoch [   39/  100] | d_loss: 1.3533 | g_loss: 0.8395\n",
            "Epoch [   39/  100] | d_loss: 1.2444 | g_loss: 1.4749\n",
            "Epoch [   40/  100] | d_loss: 1.2816 | g_loss: 1.3137\n",
            "Epoch [   40/  100] | d_loss: 1.2548 | g_loss: 0.8998\n",
            "Epoch [   40/  100] | d_loss: 1.2873 | g_loss: 1.0178\n",
            "Epoch [   41/  100] | d_loss: 1.3230 | g_loss: 0.8882\n",
            "Epoch [   41/  100] | d_loss: 1.1144 | g_loss: 1.2202\n",
            "Epoch [   41/  100] | d_loss: 1.2822 | g_loss: 1.3671\n",
            "Epoch [   42/  100] | d_loss: 1.3264 | g_loss: 1.1689\n",
            "Epoch [   42/  100] | d_loss: 1.3081 | g_loss: 0.9570\n",
            "Epoch [   42/  100] | d_loss: 1.3653 | g_loss: 1.0227\n",
            "Epoch [   43/  100] | d_loss: 1.2475 | g_loss: 1.0149\n",
            "Epoch [   43/  100] | d_loss: 1.2994 | g_loss: 0.9998\n",
            "Epoch [   43/  100] | d_loss: 1.4058 | g_loss: 0.9399\n",
            "Epoch [   44/  100] | d_loss: 1.3207 | g_loss: 0.8753\n",
            "Epoch [   44/  100] | d_loss: 1.2601 | g_loss: 1.0873\n",
            "Epoch [   44/  100] | d_loss: 1.2819 | g_loss: 1.0956\n",
            "Epoch [   45/  100] | d_loss: 1.3528 | g_loss: 0.8121\n",
            "Epoch [   45/  100] | d_loss: 1.2510 | g_loss: 0.8991\n",
            "Epoch [   45/  100] | d_loss: 1.4187 | g_loss: 1.1327\n",
            "Epoch [   46/  100] | d_loss: 1.3199 | g_loss: 0.7806\n",
            "Epoch [   46/  100] | d_loss: 1.3032 | g_loss: 1.0133\n",
            "Epoch [   46/  100] | d_loss: 1.3564 | g_loss: 1.1308\n",
            "Epoch [   47/  100] | d_loss: 1.3378 | g_loss: 0.9613\n",
            "Epoch [   47/  100] | d_loss: 1.2077 | g_loss: 0.9310\n",
            "Epoch [   47/  100] | d_loss: 1.2624 | g_loss: 1.1502\n",
            "Epoch [   48/  100] | d_loss: 1.1639 | g_loss: 1.2281\n",
            "Epoch [   48/  100] | d_loss: 1.2181 | g_loss: 1.1705\n",
            "Epoch [   48/  100] | d_loss: 1.2379 | g_loss: 1.0234\n",
            "Epoch [   49/  100] | d_loss: 1.2421 | g_loss: 1.0393\n",
            "Epoch [   49/  100] | d_loss: 1.1875 | g_loss: 1.0567\n",
            "Epoch [   49/  100] | d_loss: 1.3035 | g_loss: 0.9108\n",
            "Epoch [   50/  100] | d_loss: 1.3104 | g_loss: 0.9236\n",
            "Epoch [   50/  100] | d_loss: 1.2967 | g_loss: 1.0686\n",
            "Epoch [   50/  100] | d_loss: 1.3254 | g_loss: 1.0803\n",
            "Epoch [   51/  100] | d_loss: 1.3881 | g_loss: 1.1210\n",
            "Epoch [   51/  100] | d_loss: 1.2826 | g_loss: 0.8888\n",
            "Epoch [   51/  100] | d_loss: 1.3279 | g_loss: 1.0876\n",
            "Epoch [   52/  100] | d_loss: 1.3220 | g_loss: 1.0253\n",
            "Epoch [   52/  100] | d_loss: 1.1918 | g_loss: 1.2662\n",
            "Epoch [   52/  100] | d_loss: 1.3113 | g_loss: 0.9654\n",
            "Epoch [   53/  100] | d_loss: 1.1457 | g_loss: 1.0849\n",
            "Epoch [   53/  100] | d_loss: 1.2238 | g_loss: 1.3555\n",
            "Epoch [   53/  100] | d_loss: 1.2822 | g_loss: 0.9291\n",
            "Epoch [   54/  100] | d_loss: 1.3106 | g_loss: 1.0644\n",
            "Epoch [   54/  100] | d_loss: 1.2270 | g_loss: 1.3564\n",
            "Epoch [   54/  100] | d_loss: 1.3526 | g_loss: 0.8758\n",
            "Epoch [   55/  100] | d_loss: 1.2669 | g_loss: 1.1331\n",
            "Epoch [   55/  100] | d_loss: 1.2586 | g_loss: 1.0480\n",
            "Epoch [   55/  100] | d_loss: 1.3062 | g_loss: 1.0313\n",
            "Epoch [   56/  100] | d_loss: 1.3283 | g_loss: 1.4195\n",
            "Epoch [   56/  100] | d_loss: 1.2183 | g_loss: 1.0662\n",
            "Epoch [   56/  100] | d_loss: 1.3140 | g_loss: 0.9121\n",
            "Epoch [   57/  100] | d_loss: 1.2797 | g_loss: 1.0255\n",
            "Epoch [   57/  100] | d_loss: 1.3719 | g_loss: 1.0093\n",
            "Epoch [   57/  100] | d_loss: 1.3394 | g_loss: 1.0400\n",
            "Epoch [   58/  100] | d_loss: 1.2697 | g_loss: 0.8620\n",
            "Epoch [   58/  100] | d_loss: 1.3073 | g_loss: 1.1529\n",
            "Epoch [   58/  100] | d_loss: 1.5361 | g_loss: 1.0086\n",
            "Epoch [   59/  100] | d_loss: 1.2826 | g_loss: 0.9863\n",
            "Epoch [   59/  100] | d_loss: 1.3050 | g_loss: 0.9601\n",
            "Epoch [   59/  100] | d_loss: 1.3860 | g_loss: 0.8565\n",
            "Epoch [   60/  100] | d_loss: 1.3153 | g_loss: 0.9385\n",
            "Epoch [   60/  100] | d_loss: 1.2525 | g_loss: 0.9036\n",
            "Epoch [   60/  100] | d_loss: 1.4097 | g_loss: 1.0242\n",
            "Epoch [   61/  100] | d_loss: 1.3057 | g_loss: 1.2567\n",
            "Epoch [   61/  100] | d_loss: 1.2678 | g_loss: 0.9318\n",
            "Epoch [   61/  100] | d_loss: 1.3457 | g_loss: 1.0247\n",
            "Epoch [   62/  100] | d_loss: 1.3691 | g_loss: 1.0734\n",
            "Epoch [   62/  100] | d_loss: 1.2784 | g_loss: 1.1228\n",
            "Epoch [   62/  100] | d_loss: 1.3430 | g_loss: 1.0330\n",
            "Epoch [   63/  100] | d_loss: 1.2470 | g_loss: 1.1359\n",
            "Epoch [   63/  100] | d_loss: 1.2523 | g_loss: 0.8853\n",
            "Epoch [   63/  100] | d_loss: 1.3837 | g_loss: 1.0415\n",
            "Epoch [   64/  100] | d_loss: 1.2327 | g_loss: 1.1526\n",
            "Epoch [   64/  100] | d_loss: 1.2647 | g_loss: 1.0250\n",
            "Epoch [   64/  100] | d_loss: 1.4578 | g_loss: 0.7894\n",
            "Epoch [   65/  100] | d_loss: 1.3199 | g_loss: 1.0501\n",
            "Epoch [   65/  100] | d_loss: 1.1880 | g_loss: 0.9464\n",
            "Epoch [   65/  100] | d_loss: 1.3407 | g_loss: 1.0635\n",
            "Epoch [   66/  100] | d_loss: 1.2864 | g_loss: 1.0717\n",
            "Epoch [   66/  100] | d_loss: 1.3057 | g_loss: 1.0313\n",
            "Epoch [   66/  100] | d_loss: 1.3323 | g_loss: 0.9679\n",
            "Epoch [   67/  100] | d_loss: 1.3273 | g_loss: 1.0155\n",
            "Epoch [   67/  100] | d_loss: 1.2586 | g_loss: 1.1681\n",
            "Epoch [   67/  100] | d_loss: 1.3742 | g_loss: 1.1575\n",
            "Epoch [   68/  100] | d_loss: 1.2535 | g_loss: 0.9133\n",
            "Epoch [   68/  100] | d_loss: 1.2466 | g_loss: 2.1248\n",
            "Epoch [   68/  100] | d_loss: 1.3145 | g_loss: 1.4239\n",
            "Epoch [   69/  100] | d_loss: 1.2536 | g_loss: 1.0717\n",
            "Epoch [   69/  100] | d_loss: 1.2853 | g_loss: 0.9726\n",
            "Epoch [   70/  100] | d_loss: 1.3376 | g_loss: 1.1230\n",
            "Epoch [   70/  100] | d_loss: 1.2166 | g_loss: 1.0810\n",
            "Epoch [   70/  100] | d_loss: 1.4261 | g_loss: 1.0515\n",
            "Epoch [   71/  100] | d_loss: 1.2617 | g_loss: 1.3238\n",
            "Epoch [   71/  100] | d_loss: 1.3622 | g_loss: 1.0326\n",
            "Epoch [   71/  100] | d_loss: 1.4593 | g_loss: 0.9486\n",
            "Epoch [   72/  100] | d_loss: 1.2896 | g_loss: 0.9876\n",
            "Epoch [   72/  100] | d_loss: 1.4055 | g_loss: 1.0077\n",
            "Epoch [   72/  100] | d_loss: 1.3572 | g_loss: 0.9774\n",
            "Epoch [   73/  100] | d_loss: 1.2627 | g_loss: 1.0200\n",
            "Epoch [   73/  100] | d_loss: 1.2745 | g_loss: 1.1436\n",
            "Epoch [   73/  100] | d_loss: 1.2810 | g_loss: 0.9179\n",
            "Epoch [   74/  100] | d_loss: 1.3149 | g_loss: 1.0744\n",
            "Epoch [   74/  100] | d_loss: 1.2510 | g_loss: 0.9392\n",
            "Epoch [   74/  100] | d_loss: 1.2752 | g_loss: 1.0966\n",
            "Epoch [   75/  100] | d_loss: 1.2888 | g_loss: 1.0464\n",
            "Epoch [   75/  100] | d_loss: 1.2295 | g_loss: 1.0726\n",
            "Epoch [   75/  100] | d_loss: 1.3442 | g_loss: 1.2882\n",
            "Epoch [   76/  100] | d_loss: 1.2907 | g_loss: 1.0437\n",
            "Epoch [   76/  100] | d_loss: 1.3614 | g_loss: 1.0261\n",
            "Epoch [   76/  100] | d_loss: 1.4076 | g_loss: 1.1557\n",
            "Epoch [   77/  100] | d_loss: 1.5272 | g_loss: 0.8675\n",
            "Epoch [   77/  100] | d_loss: 1.2296 | g_loss: 1.1870\n",
            "Epoch [   77/  100] | d_loss: 1.3638 | g_loss: 0.9374\n",
            "Epoch [   78/  100] | d_loss: 1.4882 | g_loss: 0.9593\n",
            "Epoch [   78/  100] | d_loss: 1.2515 | g_loss: 0.9279\n",
            "Epoch [   78/  100] | d_loss: 1.3729 | g_loss: 1.1370\n",
            "Epoch [   79/  100] | d_loss: 1.3459 | g_loss: 0.9247\n",
            "Epoch [   79/  100] | d_loss: 1.2689 | g_loss: 0.9929\n",
            "Epoch [   79/  100] | d_loss: 1.3735 | g_loss: 1.1282\n",
            "Epoch [   80/  100] | d_loss: 1.2676 | g_loss: 1.2946\n",
            "Epoch [   80/  100] | d_loss: 1.3351 | g_loss: 0.9087\n",
            "Epoch [   80/  100] | d_loss: 1.3538 | g_loss: 1.0869\n",
            "Epoch [   81/  100] | d_loss: 1.2916 | g_loss: 1.1620\n",
            "Epoch [   81/  100] | d_loss: 1.2971 | g_loss: 0.9170\n",
            "Epoch [   81/  100] | d_loss: 1.3516 | g_loss: 1.0616\n",
            "Epoch [   82/  100] | d_loss: 1.3348 | g_loss: 1.0621\n",
            "Epoch [   82/  100] | d_loss: 1.3144 | g_loss: 1.0527\n",
            "Epoch [   82/  100] | d_loss: 1.3416 | g_loss: 0.9866\n",
            "Epoch [   83/  100] | d_loss: 1.2308 | g_loss: 2.4159\n",
            "Epoch [   83/  100] | d_loss: 1.2004 | g_loss: 0.9088\n",
            "Epoch [   83/  100] | d_loss: 1.4440 | g_loss: 1.0009\n",
            "Epoch [   84/  100] | d_loss: 1.2266 | g_loss: 1.0320\n",
            "Epoch [   84/  100] | d_loss: 1.3128 | g_loss: 0.9749\n",
            "Epoch [   84/  100] | d_loss: 1.3102 | g_loss: 0.9945\n",
            "Epoch [   85/  100] | d_loss: 1.2432 | g_loss: 1.6930\n",
            "Epoch [   85/  100] | d_loss: 1.3436 | g_loss: 1.0294\n",
            "Epoch [   85/  100] | d_loss: 1.3153 | g_loss: 0.9840\n",
            "Epoch [   86/  100] | d_loss: 1.2206 | g_loss: 1.0263\n",
            "Epoch [   86/  100] | d_loss: 1.2631 | g_loss: 0.9676\n",
            "Epoch [   86/  100] | d_loss: 1.1564 | g_loss: 1.3141\n",
            "Epoch [   87/  100] | d_loss: 1.2739 | g_loss: 0.9326\n",
            "Epoch [   87/  100] | d_loss: 1.2812 | g_loss: 0.9640\n",
            "Epoch [   87/  100] | d_loss: 1.3644 | g_loss: 0.9926\n",
            "Epoch [   88/  100] | d_loss: 1.3898 | g_loss: 0.9325\n",
            "Epoch [   88/  100] | d_loss: 1.2845 | g_loss: 0.9365\n",
            "Epoch [   88/  100] | d_loss: 1.3361 | g_loss: 0.9129\n",
            "Epoch [   89/  100] | d_loss: 1.2700 | g_loss: 1.2379\n",
            "Epoch [   89/  100] | d_loss: 1.1582 | g_loss: 1.2972\n",
            "Epoch [   89/  100] | d_loss: 1.3737 | g_loss: 1.1179\n",
            "Epoch [   90/  100] | d_loss: 1.3840 | g_loss: 1.2923\n",
            "Epoch [   90/  100] | d_loss: 1.2799 | g_loss: 1.1711\n",
            "Epoch [   90/  100] | d_loss: 1.2781 | g_loss: 1.1921\n",
            "Epoch [   91/  100] | d_loss: 1.3458 | g_loss: 0.9503\n",
            "Epoch [   91/  100] | d_loss: 1.1723 | g_loss: 1.3036\n",
            "Epoch [   91/  100] | d_loss: 1.1690 | g_loss: 1.3725\n",
            "Epoch [   92/  100] | d_loss: 1.2523 | g_loss: 1.0179\n",
            "Epoch [   92/  100] | d_loss: 1.3029 | g_loss: 0.9936\n",
            "Epoch [   92/  100] | d_loss: 1.4134 | g_loss: 1.0704\n",
            "Epoch [   93/  100] | d_loss: 1.2720 | g_loss: 1.2216\n",
            "Epoch [   93/  100] | d_loss: 1.2439 | g_loss: 0.9066\n",
            "Epoch [   93/  100] | d_loss: 1.2706 | g_loss: 1.4155\n",
            "Epoch [   94/  100] | d_loss: 1.2435 | g_loss: 0.9518\n",
            "Epoch [   94/  100] | d_loss: 1.2440 | g_loss: 1.0517\n",
            "Epoch [   94/  100] | d_loss: 1.4151 | g_loss: 1.0899\n",
            "Epoch [   95/  100] | d_loss: 1.4199 | g_loss: 1.1180\n",
            "Epoch [   95/  100] | d_loss: 1.3549 | g_loss: 1.1323\n",
            "Epoch [   95/  100] | d_loss: 1.1747 | g_loss: 1.3373\n",
            "Epoch [   96/  100] | d_loss: 1.2328 | g_loss: 0.9914\n",
            "Epoch [   96/  100] | d_loss: 1.3141 | g_loss: 0.9344\n",
            "Epoch [   96/  100] | d_loss: 1.4003 | g_loss: 1.0042\n",
            "Epoch [   97/  100] | d_loss: 1.2800 | g_loss: 0.9989\n",
            "Epoch [   97/  100] | d_loss: 1.1353 | g_loss: 1.0878\n",
            "Epoch [   97/  100] | d_loss: 1.3426 | g_loss: 1.0418\n",
            "Epoch [   98/  100] | d_loss: 1.2780 | g_loss: 1.0816\n",
            "Epoch [   98/  100] | d_loss: 1.2980 | g_loss: 0.9041\n",
            "Epoch [   98/  100] | d_loss: 1.3776 | g_loss: 1.0568\n",
            "Epoch [   99/  100] | d_loss: 1.2927 | g_loss: 1.0894\n",
            "Epoch [   99/  100] | d_loss: 1.3728 | g_loss: 1.0874\n",
            "Epoch [   99/  100] | d_loss: 1.2928 | g_loss: 0.9163\n",
            "Epoch [  100/  100] | d_loss: 1.1916 | g_loss: 1.3175\n",
            "Epoch [  100/  100] | d_loss: 1.2387 | g_loss: 0.9579\n",
            "Epoch [  100/  100] | d_loss: 1.4635 | g_loss: 1.2274\n"
          ],
          "name": "stdout"
        }
      ]
    },
    {
      "cell_type": "code",
      "metadata": {
        "id": "wiFW-arE89PX",
        "colab_type": "code",
        "colab": {
          "base_uri": "https://localhost:8080/",
          "height": 299
        },
        "outputId": "f1fc1ac1-c8ae-4960-efde-4f0ae467a918"
      },
      "source": [
        "\n",
        "fig, ax = plt.subplots()\n",
        "losses = np.array(losses)\n",
        "plt.plot(losses.T[0], label='Discriminator')\n",
        "plt.plot(losses.T[1], label='Generator')\n",
        "plt.title(\"Training Losses\")\n",
        "plt.legend()"
      ],
      "execution_count": 14,
      "outputs": [
        {
          "output_type": "execute_result",
          "data": {
            "text/plain": [
              "<matplotlib.legend.Legend at 0x7fe44fe45b70>"
            ]
          },
          "metadata": {
            "tags": []
          },
          "execution_count": 14
        },
        {
          "output_type": "display_data",
          "data": {
            "image/png": "[encoded data removed]",
            "text/plain": [
              "<Figure size 432x288 with 1 Axes>"
            ]
          },
          "metadata": {
            "tags": []
          }
        }
      ]
    },
    {
      "cell_type": "code",
      "metadata": {
        "id": "HAYCV9ZX9ALj",
        "colab_type": "code",
        "colab": {}
      },
      "source": [
        "def view_samples(epoch, samples):\n",
        "  fig, axes = plt.subplots(figsize=(7,7), nrows=4, ncols=4, sharey=True, sharex=True)\n",
        "  for ax, img in zip(axes.flatten(), samples[epoch]):\n",
        "    img = img.detach()\n",
        "    ax.xaxis.set_visible(False)\n",
        "    ax.yaxis.set_visible(False)\n",
        "    im = ax.imshow(img.reshape((28,28)), cmap='Greys_r')"
      ],
      "execution_count": 0,
      "outputs": []
    },
    {
      "cell_type": "code",
      "metadata": {
        "id": "gYlmECA69DL7",
        "colab_type": "code",
        "colab": {}
      },
      "source": [
        "with open('train_samples.pkl', 'rb') as f:\n",
        "  samples = pkl.load(f)"
      ],
      "execution_count": 0,
      "outputs": []
    },
    {
      "cell_type": "code",
      "metadata": {
        "id": "aoXWkMw89GbD",
        "colab_type": "code",
        "colab": {
          "base_uri": "https://localhost:8080/",
          "height": 415
        },
        "outputId": "1282948e-1be7-47b2-f825-89e4adfaeeae"
      },
      "source": [
        "view_samples(-1, samples)"
      ],
      "execution_count": 17,
      "outputs": [
        {
          "output_type": "display_data",
          "data": {
            "image/png": "[encoded data removed]",
            "text/plain": [
              "<Figure size 504x504 with 16 Axes>"
            ]
          },
          "metadata": {
            "tags": []
          }
        }
      ]
    },
    {
      "cell_type": "code",
      "metadata": {
        "id": "u4_E5ZJ_9IKF",
        "colab_type": "code",
        "colab": {
          "base_uri": "https://localhost:8080/",
          "height": 687
        },
        "outputId": "d8f4dd32-57b3-477e-8a0c-8987edfae68e"
      },
      "source": [
        "\n",
        "rows = 10 # split epochs into 10, so 100/10 = every 10 epochs\n",
        "cols = 6\n",
        "fig, axes = plt.subplots(figsize=(7,12), nrows=rows, ncols=cols, sharex=True, sharey=True)\n",
        "\n",
        "for sample, ax_row in zip(samples[::int(len(samples)/rows)], axes):\n",
        "  for img, ax in zip(sample[::int(len(sample)/cols)], ax_row):\n",
        "    img = img.detach()\n",
        "    ax.imshow(img.reshape((28,28)), cmap='Greys_r')\n",
        "    ax.xaxis.set_visible(False)\n",
        "    ax.yaxis.set_visible(False)"
      ],
      "execution_count": 18,
      "outputs": [
        {
          "output_type": "display_data",
          "data": {
            "image/png": "[encoded data removed]",
            "text/plain": [
              "<Figure size 504x864 with 60 Axes>"
            ]
          },
          "metadata": {
            "tags": []
          }
        }
      ]
    },
    {
      "cell_type": "code",
      "metadata": {
        "id": "G7stbQr09M1l",
        "colab_type": "code",
        "colab": {
          "base_uri": "https://localhost:8080/",
          "height": 471
        },
        "outputId": "376c47e4-aaa7-4cee-b8f1-0cf887f69de8"
      },
      "source": [
        "# randomly generated, new latent vectors\n",
        "sample_size=16\n",
        "rand_z = np.random.uniform(-1, 1, size=(sample_size, z_size))\n",
        "rand_z = torch.from_numpy(rand_z).float()\n",
        "\n",
        "G.eval() # eval mode\n",
        "# generated samples\n",
        "rand_images = G(rand_z)\n",
        "\n",
        "# 0 indicates the first set of samples in the passed in list\n",
        "# and we only have one batch of samples, here\n",
        "view_samples(0, [rand_images])"
      ],
      "execution_count": 19,
      "outputs": [
        {
          "output_type": "stream",
          "text": [
            "/usr/local/lib/python3.6/dist-packages/torch/nn/functional.py:1340: UserWarning: nn.functional.tanh is deprecated. Use torch.tanh instead.\n",
            "  warnings.warn(\"nn.functional.tanh is deprecated. Use torch.tanh instead.\")\n"
          ],
          "name": "stderr"
        },
        {
          "output_type": "display_data",
          "data": {
            "image/png": "[encoded data removed]",
            "text/plain": [
              "<Figure size 504x504 with 16 Axes>"
            ]
          },
          "metadata": {
            "tags": []
          }
        }
      ]
    }
  ]
}